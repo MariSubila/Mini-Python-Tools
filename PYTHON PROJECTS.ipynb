{
 "cells": [
  {
   "cell_type": "code",
   "execution_count": 1,
   "id": "efa77278-97e4-4fce-8339-d04c54d8802a",
   "metadata": {},
   "outputs": [
    {
     "name": "stdout",
     "output_type": "stream",
     "text": [
      "Collecting pypdf2\n",
      "  Downloading pypdf2-3.0.1-py3-none-any.whl.metadata (6.8 kB)\n",
      "Downloading pypdf2-3.0.1-py3-none-any.whl (232 kB)\n",
      "Installing collected packages: pypdf2\n",
      "Successfully installed pypdf2-3.0.1\n"
     ]
    }
   ],
   "source": [
    "!pip install pypdf2"
   ]
  },
  {
   "cell_type": "code",
   "execution_count": 7,
   "id": "882f3ae8-5a53-432d-a6fe-ddbe44e8ac5b",
   "metadata": {},
   "outputs": [
    {
     "name": "stdout",
     "output_type": "stream",
     "text": [
      "Requirement already satisfied: PyPDF2 in c:\\users\\subi\\anaconda3\\lib\\site-packages (3.0.1)\n"
     ]
    }
   ],
   "source": [
    "!pip install PyPDF2\n"
   ]
  },
  {
   "cell_type": "code",
   "execution_count": 1,
   "id": "7e05683c-25ac-4266-9187-6955f6136f77",
   "metadata": {},
   "outputs": [
    {
     "name": "stdout",
     "output_type": "stream",
     "text": [
      "9\n",
      "1. Probability Range Rule  \n",
      "Probability is always between 0 and 1.  \n",
      "• 0 means the event cannot happen . \n",
      "• 1 means the event will definitely happen . \n",
      " Example:  \n",
      " Probability of getting heads in a fair coin toss = 0.5  \n",
      "2. Sum Rule (Addition Rule for Mutually Exclusive Events)  \n",
      "If two events cannot happen at the same time , the probability that either happens  is the sum \n",
      "of their individual probabilities.  \n",
      " Example:  \n",
      " Rolling a 1 or a 2 on a die:  \n",
      " P(1 or 2) = P(1) + P(2) = 1/6 + 1/6 = 2/6 = 1/3  \n",
      " \n",
      " 3. Complement Rule  \n",
      "The probability that an event does not happen  = 1 − P(Event)  \n",
      " Example:  \n",
      " Probability of not getting heads  = 1 − P(heads) = 1 − 0.5 = 0.5  \n",
      " \n",
      " 4. Multiplication Rule (Independent Events)  \n",
      "If two events are independent  (one doesn’t affect the other),  \n",
      " the probability of both happening  = P(Event A) × P(Event B)  \n",
      " Example:  \n",
      " Tossing two coins:  \n"
     ]
    }
   ],
   "source": [
    "#TITLE:EXTRACT FIRST PAGE OF DATA FROM PDF\n",
    "#IMPORTING REQUIRED MODELS\n",
    "import PyPDF2\n",
    "\n",
    "#OPENING THE PDF FILE\n",
    "pdf_file_obj = open(r\"C:\\Users\\subi\\Downloads\\Statistics notes.pdf\",\"rb\")\n",
    "\n",
    "#CREATING PDF READER OBJECT\n",
    "pdf_reader = PyPDF2.PdfReader(pdf_file_obj)\n",
    "\n",
    "#PRINT NO.OF PAGES\n",
    "print(len(pdf_reader.pages))\n",
    "\n",
    "#GET THE FIRST PAGE\n",
    "pdf_page = pdf_reader.pages[0]\n",
    "\n",
    "#EXTRACTING THE TEXT FROM THE FIRST PAGE\n",
    "print(pdf_page.extract_text())\n",
    "\n",
    "#CLOSING THE FILE\n",
    "pdf_file_obj.close()\n"
   ]
  },
  {
   "cell_type": "code",
   "execution_count": 51,
   "id": "74fb1789-38db-46da-bf07-66fc5d9ffd20",
   "metadata": {},
   "outputs": [
    {
     "name": "stdout",
     "output_type": "stream",
     "text": [
      "TOTAL PAGES: 9\n",
      "\n",
      "--- Page 1 ---\n",
      "1. Probability Range Rule  \n",
      "Probability is always between 0 and 1.  \n",
      "• 0 means the event cannot happen . \n",
      "• 1 means the event will definitely happen . \n",
      " Example:  \n",
      " Probability of getting heads in a fair coin toss = 0.5  \n",
      "2. Sum Rule (Addition Rule for Mutually Exclusive Events)  \n",
      "If two events cannot happen at the same time , the probability that either happens  is the sum \n",
      "of their individual probabilities.  \n",
      " Example:  \n",
      " Rolling a 1 or a 2 on a die:  \n",
      " P(1 or 2) = P(1) + P(2) = 1/6 + 1/6 = 2/6 = 1/3  \n",
      " \n",
      " 3. Complement Rule  \n",
      "The probability that an event does not happen  = 1 − P(Event)  \n",
      " Example:  \n",
      " Probability of not getting heads  = 1 − P(heads) = 1 − 0.5 = 0.5  \n",
      " \n",
      " 4. Multiplication Rule (Independent Events)  \n",
      "If two events are independent  (one doesn’t affect the other),  \n",
      " the probability of both happening  = P(Event A) × P(Event B)  \n",
      " Example:  \n",
      " Tossing two coins:  \n",
      "\n",
      "--- Page 2 ---\n",
      " P(head on first and head on second) = 0.5 × 0.5 = 0.25  \n",
      " \n",
      " 5. General Addition Rule (For Any Two Events)  \n",
      "For any two events , \n",
      " P(A or B) = P(A) + P(B) − P(A and B)  \n",
      " Example:  \n",
      " P(A) = 0.4, P(B) = 0.5, P(A and B) = 0.2  \n",
      " Then,  \n",
      " P(A or B) = 0.4 + 0.5 − 0.2 = 0.7 \n",
      " \n",
      " \n",
      " What is Conditional Probability?  \n",
      "Conditional Probability  is the probability of an event happening given that another event has \n",
      "already happened . \n",
      "P(A | B)  = Probability of event A happening given  that B has already happened.  \n",
      " \n",
      " Formula:  \n",
      " \n",
      "• P(A ∩ B)  = Probability of both A and B  happening.  \n",
      "• P(B)  = Probability that B happens  (must not be 0).  \n",
      " Real -Life Example:  \n",
      "Weather forecast:  \n",
      "\n",
      "\n",
      "--- Page 3 ---\n",
      "• Let A = It rains today.  \n",
      "• Let B = It is cloudy today.  \n",
      "P(Rain | Cloudy)  = Probability it rains given that  it's cloudy.  \n",
      "This is different from just P(Rain)  because clouds increase the chance of rain.  \n",
      "Statistics in Data Science  \n",
      "Statistics is the foundation  of data science. It helps you understand, analyze, and interpret \n",
      "data  so you can make informed decisions or build accurate models.  \n",
      "Key Statistical Concepts in Data Science  \n",
      "1. Descriptive Statistics  \n",
      "Describe and summarize the main features of a dataset.  \n",
      "• Mean, Median, Mode  \n",
      "• Variance, Standard Deviation  \n",
      "• Min, Max, Range, Quartiles  \n",
      " Probability  \n",
      "Measure the likelihood of events.  \n",
      "• Probability rules  \n",
      "• Bayes’ Theorem  \n",
      "• Distributions (Normal, Binomial, Poisson)  \n",
      "Probability Distributions  \n",
      "Describe how data values are spread.  \n",
      "• Normal Distribution  \n",
      "• Binomial Distribution  (success/failure)  \n",
      "• Poisson Distribution  (event counts)  \n",
      "Regression Analysis  \n",
      "Predict outcomes based on input variables.  \n",
      "\n",
      "--- Page 4 ---\n",
      "• Linear Regression  (predict numbers)  \n",
      "• Logistic Regression  (predict categories)  \n",
      " \n",
      "🔍 What is Descriptive Statistics?  \n",
      "Descriptive Statistics  is the branch of statistics that summarizes and describes  the main \n",
      "features of a dataset.  \n",
      "It helps you understand the structure  of your data before performing any deep analysis or \n",
      "modeling.  \n",
      "Real -World Example  \n",
      "You analyze the daily order value (in $)  of 10 customers:  \n",
      "order_values = [150, 200, 250, 300, 100, 400, 600, 1000, 80, 150]  \n",
      "  \n",
      "Apply Descriptive Statistics  \n",
      "1. Mean (Average Order Value)  \n",
      "2. Median (Middle Value)  \n",
      "• Sorted: [80, 100, 150, 150, 200, 250, 300, 400, 600, 1000]  \n",
      "• Median = (200 + 250)/2 = 225 \n",
      "3. Mode (Most frequent value)  \n",
      "• Mode = 150 (appears twice)  \n",
      "4. Range  \n",
      "Range= Max value - minimum value  \n",
      " \n",
      "Max =1000  \n",
      "Min =80  \n",
      "Range =1000 -80=920  \n",
      "\n",
      "--- Page 5 ---\n",
      " \n",
      "5. Standard Deviation (Spread of data)  \n",
      "• Shows how far order values are from the mean  \n",
      "• Higher std → more variation  \n",
      "• Computed using:  \n",
      "Example  \n",
      "order_values = [150, 200, 250, 1000, 1200]  \n",
      "The mean might be around 560.  \n",
      "  \n",
      "Some values (like 150, 200) are much lower than the mean.  \n",
      "  \n",
      "Others (like 1000, 1200) are much higher than the mean.  \n",
      "  \n",
      "So the standard deviation will be high (large spread).  \n",
      "import numpy as np  \n",
      "np.std(order_values)  \n",
      "np.std() is a NumPy function that calculates the standard deviation of the array.   \n",
      " \n",
      "Bayes’ Theorem in Data Science  \n",
      " \n",
      "What is Bayes’ Theorem?  \n",
      "Bayes’ Theorem is a mathematical formula  used to update the probability  of an event based \n",
      "on new evidence . \n",
      " \n",
      "\n",
      "--- Page 6 ---\n",
      "Simple Formula:  \n",
      " \n",
      "Where:  \n",
      "• P(A∣B)P(A|B)  = Probability of A given  B (posterior)  \n",
      "• P(B∣A)P(B|A)  = Probability of B given  A (likelihood)  \n",
      "• P(A)P(A)  = Probability of A (prior)  \n",
      "• P(B)P(B)  = Probability of B (evidence)  \n",
      " \n",
      "🧪 Real -Life Example: Medical Diagnosis  \n",
      "• 1% of people have a disease → P(D)=0.01P(D) = 0.01  \n",
      "• Test detects it correctly 99% of the time → P(Pos∣D)=0.99P(Pos|D) = 0.99  \n",
      "• Test is 5% wrong for healthy people → P(Pos∣NoD)=0.05P(Pos|No D) = 0.05  \n",
      "Now, if a person tests positive , what is the probability they actually have the disease ? \n",
      " \n",
      " \n",
      " Probability Distribution in Data Science  \n",
      "What is a Probability Distribution?  \n",
      "A probability distribution  is a way to describe how likely different outcomes  are in a random \n",
      "experiment  or dataset.  \n",
      "It tells us:  \n",
      "\n",
      "\n",
      "--- Page 7 ---\n",
      "“What is the probability of each possible value?”  \n",
      "   \n",
      "Discrete  Finite or countable outcomes  Dice roll, number of emails  \n",
      "Continuous  Infinite possible values (in a range)  Height, temperature  \n",
      " \n",
      "1. Discrete Probability Distribution  \n",
      "• Binomial Distribution  – Used when there are two outcomes  (Success/Fail)  \n",
      " Example: Predicting number of correct answers in a quiz  \n",
      "• Poisson Distribution  – Used to model rare events over time  \n",
      " Example: Number of customer complaints in a day  \n",
      " \n",
      "2. Continuous Probability Distribution  \n",
      "• Normal (Gaussian) Distribution  – Bell-shaped, symmetric  \n",
      " Example: Human heights, test scores  \n",
      "• Exponential Distribution  – Time until an event occurs  \n",
      " Example: Time between customer arrivals  \n",
      " \n",
      "Real Data Science Examples  \n",
      "Distribution  Real -World Use Case  \n",
      "Normal  Model exam scores, stock returns  \n",
      "Binomial  Click -through rate (CTR): Did user click? Yes/No  \n",
      "Poisson  Number of product returns per day  \n",
      "Exponential  Time between web page visits  \n",
      "Uniform  Simulating random numbers (e.g., CAPTCHA colors)  \n",
      " \n",
      "\n",
      "--- Page 8 ---\n",
      "What is a Probability Distribution?  \n",
      "A probability distribution  shows how the probabilities are distributed over different outcomes \n",
      "in an experiment or dataset.  \n",
      " \n",
      "1. Discrete Probability Distribution  \n",
      "Definition:  \n",
      "A discrete distribution  deals with countable values  – you can list them (1, 2, 3...).  \n",
      "Examples:  \n",
      "• Number of students in a class  \n",
      "• Number of emails received per day  \n",
      "• Number of heads in coin tosses  \n",
      "Common Discrete Distributions:  \n",
      "Distribution  Used For  \n",
      "Binomial  Success/failure outcomes (e.g., coin tosses)  \n",
      "Poisson  Rare events over time (e.g., call center)  \n",
      "Geometric  Time until first success  \n",
      " \n",
      "2. Continuous Probability Distribution  \n",
      "Definition:  \n",
      "A continuous distribution  deals with infinite values  in a range  – you measure  them, not \n",
      "count.  \n",
      "Examples:  \n",
      "• Height of students  \n",
      "• Time taken to run a race  \n",
      "• Temperature readings  \n",
      "\n",
      "--- Page 9 ---\n",
      "1. PMF – Probability Mass Function  \n",
      "• Used for:  Discrete  distributions (e.g., Binomial, Poisson).  \n",
      "• Tells:  The exact probability  of a random variable being equal to a specific value.  \n",
      "Example:  \n",
      "from scipy.stats import binom  \n",
      "binom.pmf(2, n=5, p=0.5)  # P(X = 2)  \n",
      "  \n",
      "     \"What’s the chance of getting exactly 2 heads in 5 coin flips?\"  \n",
      " \n",
      "2. PDF – Probability Density Function  \n",
      "• Used for:  Continuous  distributions (e.g., Normal, Exponential).  \n",
      "• Tells:  The density  (not exact probability) at a point.  \n",
      "• Note:  For continuous variables, P(X = a) is always 0 , so PDF is about likelihood near a \n",
      "value . \n",
      " \n",
      "3. CDF – Cumulative Distribution Function  \n",
      "• Used for:  Both discrete and continuous  distributions.  \n",
      "• Tells:  The total probability up to a value , i.e.,  \n",
      " \n",
      "Table:  \n",
      "Term  Type of Variable  Purpose  SciPy Function  \n",
      "PMF  Discrete  P(X = x)  pmf()  \n",
      "PDF Continuous  Density at X = x  pdf()  \n",
      "CDF  Both  P(X ≤ x)  cdf()  \n",
      " \n",
      " \n"
     ]
    }
   ],
   "source": [
    "#TITLE:EXTRACT ALL DATA FROM PDF\n",
    "#IMPORTING REQUIRED MODELS\n",
    "import PyPDF2\n",
    "\n",
    "#OPENING THE PDF FILE\n",
    "pdf_file_obj = open(r\"C:\\Users\\subi\\Downloads\\Statistics notes.pdf\",\"rb\")\n",
    "\n",
    "#CREATING PDF READER OBJECT\n",
    "pdf_reader = PyPDF2.PdfReader(pdf_file_obj)\n",
    "\n",
    "#PRINT NO.OF PAGES\n",
    "num_pages = (len(pdf_reader.pages))\n",
    "print(f\"TOTAL PAGES: {num_pages}\")\n",
    "\n",
    "# LOOP THROUGH ALL PAGES AND EXTRACT TEXT\n",
    "for i in range(num_pages):\n",
    "    page = pdf_reader.pages[i]\n",
    "    text = page.extract_text()\n",
    "    print(f\"\\n--- Page {i + 1} ---\")\n",
    "    print(text)\n",
    "    \n",
    "\n",
    "#CLOSING THE FILE\n",
    "pdf_file_obj.close()"
   ]
  },
  {
   "cell_type": "code",
   "execution_count": 55,
   "id": "e349d041-4223-4afd-85e4-fc1bf58bbccd",
   "metadata": {},
   "outputs": [
    {
     "name": "stdout",
     "output_type": "stream",
     "text": [
      "Collecting textblob\n",
      "  Downloading textblob-0.19.0-py3-none-any.whl.metadata (4.4 kB)\n",
      "Requirement already satisfied: nltk>=3.9 in c:\\users\\subi\\anaconda3\\lib\\site-packages (from textblob) (3.9.1)\n",
      "Requirement already satisfied: click in c:\\users\\subi\\anaconda3\\lib\\site-packages (from nltk>=3.9->textblob) (8.1.7)\n",
      "Requirement already satisfied: joblib in c:\\users\\subi\\anaconda3\\lib\\site-packages (from nltk>=3.9->textblob) (1.4.2)\n",
      "Requirement already satisfied: regex>=2021.8.3 in c:\\users\\subi\\anaconda3\\lib\\site-packages (from nltk>=3.9->textblob) (2024.9.11)\n",
      "Requirement already satisfied: tqdm in c:\\users\\subi\\anaconda3\\lib\\site-packages (from nltk>=3.9->textblob) (4.66.5)\n",
      "Requirement already satisfied: colorama in c:\\users\\subi\\anaconda3\\lib\\site-packages (from click->nltk>=3.9->textblob) (0.4.6)\n",
      "Downloading textblob-0.19.0-py3-none-any.whl (624 kB)\n",
      "   ---------------------------------------- 0.0/624.3 kB ? eta -:--:--\n",
      "   ---------------------------------------- 0.0/624.3 kB ? eta -:--:--\n",
      "   ---------------------------------------- 624.3/624.3 kB 2.6 MB/s eta 0:00:00\n",
      "Installing collected packages: textblob\n",
      "Successfully installed textblob-0.19.0\n"
     ]
    }
   ],
   "source": [
    "!pip install textblob\n"
   ]
  },
  {
   "cell_type": "code",
   "execution_count": 4,
   "id": "e2cc0c5c-9579-4d8b-a725-509f839fedd2",
   "metadata": {},
   "outputs": [
    {
     "name": "stdout",
     "output_type": "stream",
     "text": [
      "POSITIVE SENTIMENT\n"
     ]
    }
   ],
   "source": [
    "#TITLE:TEXT SENTIMENT ANALYSIS\n",
    "from textblob import TextBlob\n",
    "\n",
    "text = \"YOU ARE A GOOD PERSON\"                         #TRY BAD , NORMAL ETC\n",
    "\n",
    "analysis = TextBlob(text)\n",
    "\n",
    "sentiment = analysis.sentiment.polarity\n",
    "\n",
    "if sentiment > 0:\n",
    "    print(\"POSITIVE SENTIMENT\")\n",
    "elif sentiment < 0:\n",
    "    print(\"NEGATIVE SENTIMENT\")\n",
    "else:\n",
    "    print(\"NEUTRAL SENTIMENT\")"
   ]
  },
  {
   "cell_type": "code",
   "execution_count": 6,
   "id": "3b69434c-5764-4453-b1a6-2a617ad9cce0",
   "metadata": {},
   "outputs": [
    {
     "name": "stdout",
     "output_type": "stream",
     "text": [
      "your text with misspelled words goes here\n"
     ]
    }
   ],
   "source": [
    "#TITLE:SPELL CHECK\n",
    "from textblob import Word\n",
    "\n",
    "text = \"yourr text with misspelled wrds goes here\"\n",
    "\n",
    "corrected_text = \" \".join(Word(word).correct() for word in text.split())\n",
    "\n",
    "print(corrected_text)"
   ]
  },
  {
   "cell_type": "code",
   "execution_count": 8,
   "id": "092eda7a-64f7-4c1e-9f57-c6fa39574844",
   "metadata": {},
   "outputs": [
    {
     "name": "stdout",
     "output_type": "stream",
     "text": [
      "Requirement already satisfied: fuzzywuzzy in c:\\users\\subi\\anaconda3\\lib\\site-packages (0.18.0)\n"
     ]
    }
   ],
   "source": [
    "!pip install fuzzywuzzy\n"
   ]
  },
  {
   "cell_type": "code",
   "execution_count": 65,
   "id": "11243411-a5b0-43f3-984c-25e605545563",
   "metadata": {},
   "outputs": [
    {
     "name": "stdout",
     "output_type": "stream",
     "text": [
      "SIMILARITY RATIO:70\n"
     ]
    },
    {
     "name": "stderr",
     "output_type": "stream",
     "text": [
      "C:\\Users\\subi\\anaconda3\\Lib\\site-packages\\fuzzywuzzy\\fuzz.py:11: UserWarning: Using slow pure-python SequenceMatcher. Install python-Levenshtein to remove this warning\n",
      "  warnings.warn('Using slow pure-python SequenceMatcher. Install python-Levenshtein to remove this warning')\n"
     ]
    }
   ],
   "source": [
    "#TITLE:SIMILARITY ANALYSIS\n",
    "from fuzzywuzzy import fuzz\n",
    "\n",
    "text1 = \"THIS IS A SAMPLE TEXT FOR SIMILARITY CALCULATION \"\n",
    "text2 = \"HERE IS A ANOTHER TEXT FOR SIMILARITY TESTING\"\n",
    "\n",
    "similarity_ratio = fuzz.ratio(text1,text2)\n",
    "\n",
    "print(f\"SIMILARITY RATIO:{similarity_ratio}\")"
   ]
  },
  {
   "cell_type": "code",
   "execution_count": 67,
   "id": "0060ca72-412c-4b03-8be5-6ed43f484f76",
   "metadata": {},
   "outputs": [
    {
     "name": "stdout",
     "output_type": "stream",
     "text": [
      "Collecting SpeechRecognition\n",
      "  Downloading speechrecognition-3.14.3-py3-none-any.whl.metadata (30 kB)\n",
      "Requirement already satisfied: typing-extensions in c:\\users\\subi\\anaconda3\\lib\\site-packages (from SpeechRecognition) (4.11.0)\n",
      "Downloading speechrecognition-3.14.3-py3-none-any.whl (32.9 MB)\n",
      "   ---------------------------------------- 0.0/32.9 MB ? eta -:--:--\n",
      "    --------------------------------------- 0.5/32.9 MB 5.7 MB/s eta 0:00:06\n",
      "   ---- ----------------------------------- 3.4/32.9 MB 11.9 MB/s eta 0:00:03\n",
      "   ------- -------------------------------- 6.3/32.9 MB 12.5 MB/s eta 0:00:03\n",
      "   -------- ------------------------------- 7.3/32.9 MB 10.5 MB/s eta 0:00:03\n",
      "   ------------ --------------------------- 10.2/32.9 MB 10.8 MB/s eta 0:00:03\n",
      "   ---------------- ----------------------- 13.4/32.9 MB 11.7 MB/s eta 0:00:02\n",
      "   ------------------- -------------------- 16.0/32.9 MB 11.7 MB/s eta 0:00:02\n",
      "   ---------------------- ----------------- 18.6/32.9 MB 11.7 MB/s eta 0:00:02\n",
      "   -------------------------- ------------- 21.5/32.9 MB 11.8 MB/s eta 0:00:01\n",
      "   ----------------------------- ---------- 23.9/32.9 MB 11.8 MB/s eta 0:00:01\n",
      "   -------------------------------- ------- 27.0/32.9 MB 12.1 MB/s eta 0:00:01\n",
      "   ------------------------------------ --- 29.6/32.9 MB 12.2 MB/s eta 0:00:01\n",
      "   ---------------------------------------  32.5/32.9 MB 12.1 MB/s eta 0:00:01\n",
      "   ---------------------------------------- 32.9/32.9 MB 11.7 MB/s eta 0:00:00\n",
      "Installing collected packages: SpeechRecognition\n",
      "Successfully installed SpeechRecognition-3.14.3\n"
     ]
    }
   ],
   "source": [
    "!pip install SpeechRecognition\n"
   ]
  },
  {
   "cell_type": "code",
   "execution_count": 1,
   "id": "b7c2f776-0cc3-4c72-bf05-629e36110fe6",
   "metadata": {},
   "outputs": [
    {
     "ename": "SyntaxError",
     "evalue": "incomplete input (2849005360.py, line 22)",
     "output_type": "error",
     "traceback": [
      "\u001b[1;36m  Cell \u001b[1;32mIn[1], line 22\u001b[1;36m\u001b[0m\n\u001b[1;33m    print(\"GOOGLE ERROR;{0}\".format(e)\u001b[0m\n\u001b[1;37m                                      ^\u001b[0m\n\u001b[1;31mSyntaxError\u001b[0m\u001b[1;31m:\u001b[0m incomplete input\n"
     ]
    }
   ],
   "source": [
    "import speech_recognition as sr\n",
    "import pyaudio\n",
    "\n",
    "while True:\n",
    "    r = sr.Recognizer()\n",
    "    with sr.Microphone() as source:\n",
    "        audio = r.listen(source)\n",
    "        try:\n",
    "            filename = \"draft.txt\"\n",
    "            f = open(filename,\"a+\")\n",
    "            recognized_text = r.recognize_google(audio)\n",
    "            print(recognized_text)\n",
    "            remainder = recognized_text.split()\n",
    "            while remainder:\n",
    "                line,remainder = remainder[:5],remainder[5:]\n",
    "                f.write(\" \".join(line)+\"\\n\")\n",
    "            if recognized_text == \"bye\":\n",
    "                break\n",
    "        except sr.UnknownValueError:\n",
    "            print(\"GOOGLE DOES NOT UNDERSTAND YOUR AUDIO\")\n",
    "        except sr.RequestError as e:\n",
    "            print(\"GOOGLE ERROR;{0}\".format(e)"
   ]
  },
  {
   "cell_type": "code",
   "execution_count": 77,
   "id": "7163d0bc-1a4a-42cf-806d-c0f127d6e8e7",
   "metadata": {},
   "outputs": [
    {
     "name": "stdout",
     "output_type": "stream",
     "text": [
      "Collecting langdetect\n",
      "  Downloading langdetect-1.0.9.tar.gz (981 kB)\n",
      "     ---------------------------------------- 0.0/981.5 kB ? eta -:--:--\n",
      "     ---------- ----------------------------- 262.1/981.5 kB ? eta -:--:--\n",
      "     -------------------------------------- 981.5/981.5 kB 3.8 MB/s eta 0:00:00\n",
      "  Preparing metadata (setup.py): started\n",
      "  Preparing metadata (setup.py): finished with status 'done'\n",
      "Requirement already satisfied: six in c:\\users\\subi\\anaconda3\\lib\\site-packages (from langdetect) (1.16.0)\n",
      "Building wheels for collected packages: langdetect\n",
      "  Building wheel for langdetect (setup.py): started\n",
      "  Building wheel for langdetect (setup.py): finished with status 'done'\n",
      "  Created wheel for langdetect: filename=langdetect-1.0.9-py3-none-any.whl size=993251 sha256=2cbfbf391526c1e25037e3041a5de21ef2550470e732aeccdce17303fb9b423d\n",
      "  Stored in directory: c:\\users\\subi\\appdata\\local\\pip\\cache\\wheels\\c1\\67\\88\\e844b5b022812e15a52e4eaa38a1e709e99f06f6639d7e3ba7\n",
      "Successfully built langdetect\n",
      "Installing collected packages: langdetect\n",
      "Successfully installed langdetect-1.0.9\n"
     ]
    }
   ],
   "source": [
    "!pip install langdetect\n"
   ]
  },
  {
   "cell_type": "code",
   "execution_count": 10,
   "id": "ed427f0f-17e8-4875-bd3a-8a33f93de71d",
   "metadata": {},
   "outputs": [
    {
     "name": "stdout",
     "output_type": "stream",
     "text": [
      "DETECTED LANGUAGE :  ml\n"
     ]
    }
   ],
   "source": [
    "#TITLE:LANGUAGE DETECTION\n",
    "from langdetect import detect\n",
    "\n",
    "text = \"നമസ്കാരം\"              #வணக்கம்,നമസ്കാരംetc...\n",
    "\n",
    "language = detect(text)\n",
    "\n",
    "print(\"DETECTED LANGUAGE : \",language)"
   ]
  },
  {
   "cell_type": "code",
   "execution_count": 12,
   "id": "191e1601-1b36-4a66-8de7-054c1c7de939",
   "metadata": {},
   "outputs": [
    {
     "name": "stdout",
     "output_type": "stream",
     "text": [
      "Counter({'your': 2, 'text': 2, 'input': 1, 'goes': 1, 'here': 1, 'replace': 1, 'this': 1, 'with': 1})\n"
     ]
    }
   ],
   "source": [
    "#TITLE:WORD COUNT\n",
    "import collections\n",
    "\n",
    "from collections import Counter\n",
    "\n",
    "text = \"your input text goes here replace this with your text\"\n",
    "\n",
    "word_count = Counter(text.split())\n",
    "\n",
    "print(word_count)\n",
    "\n"
   ]
  },
  {
   "cell_type": "code",
   "execution_count": null,
   "id": "d3245aee-a721-4dfe-8a31-59fd3f94a821",
   "metadata": {},
   "outputs": [],
   "source": [
    "APPS USING PYTHON"
   ]
  },
  {
   "cell_type": "code",
   "execution_count": null,
   "id": "3df697e1-bf2c-41a5-9852-dc7dde0bfee5",
   "metadata": {},
   "outputs": [
    {
     "name": "stdout",
     "output_type": "stream",
     "text": [
      "19:29\n"
     ]
    },
    {
     "name": "stdin",
     "output_type": "stream",
     "text": [
      "ENTER THE ALARM TIME (HH:MM):  19.30\n"
     ]
    }
   ],
   "source": [
    "#TITLE:ALARM APP\n",
    "import time\n",
    "\n",
    "print(time.strftime(\"%H:%M\"))\n",
    "\n",
    "alarm_time = input(\"ENTER THE ALARM TIME (HH:MM): \")\n",
    "\n",
    "while time.strftime(\"%H:%M\") != alarm_time:\n",
    "    time.sleep(1)\n",
    "\n",
    "print(\"TIME TO WAKE UP\")"
   ]
  },
  {
   "cell_type": "code",
   "execution_count": 1,
   "id": "1fd806e2-6744-442c-a2a1-9b087542284c",
   "metadata": {},
   "outputs": [
    {
     "name": "stdout",
     "output_type": "stream",
     "text": [
      "\n",
      "1. CHECK BALANCE\n",
      "2. DEPOSIT\n",
      "3. WITHDRAW\n",
      "4. EXIT\n"
     ]
    },
    {
     "name": "stdin",
     "output_type": "stream",
     "text": [
      "ENTER YOUR CHOICE:  1\n"
     ]
    },
    {
     "name": "stdout",
     "output_type": "stream",
     "text": [
      "YOUR ACCOUNT BALANCE IS $1000\n",
      "\n",
      "1. CHECK BALANCE\n",
      "2. DEPOSIT\n",
      "3. WITHDRAW\n",
      "4. EXIT\n"
     ]
    },
    {
     "name": "stdin",
     "output_type": "stream",
     "text": [
      "ENTER YOUR CHOICE:  2\n",
      "Enter the deposit amount:  300\n"
     ]
    },
    {
     "name": "stdout",
     "output_type": "stream",
     "text": [
      "YOU DEPOSITED $300.0. YOUR NEW BALANCE IS $1300.0\n",
      "\n",
      "1. CHECK BALANCE\n",
      "2. DEPOSIT\n",
      "3. WITHDRAW\n",
      "4. EXIT\n"
     ]
    },
    {
     "name": "stdin",
     "output_type": "stream",
     "text": [
      "ENTER YOUR CHOICE:  3\n",
      "Enter the withdraw amount:  1000\n"
     ]
    },
    {
     "name": "stdout",
     "output_type": "stream",
     "text": [
      "WITHDREW $1000.0. YOUR NEW BALANCE IS $300.0\n",
      "\n",
      "1. CHECK BALANCE\n",
      "2. DEPOSIT\n",
      "3. WITHDRAW\n",
      "4. EXIT\n"
     ]
    },
    {
     "name": "stdin",
     "output_type": "stream",
     "text": [
      "ENTER YOUR CHOICE:  4\n"
     ]
    },
    {
     "name": "stdout",
     "output_type": "stream",
     "text": [
      "THANK YOU FOR USING THE ATM. GOODBYE!\n"
     ]
    }
   ],
   "source": [
    "#TITLE:ATM APP\n",
    "class ATM:\n",
    "    def __init__(self, balance=1000):\n",
    "        self.balance = balance\n",
    "\n",
    "    def check_balance(self):\n",
    "        return f\"YOUR ACCOUNT BALANCE IS ${self.balance}\"\n",
    "\n",
    "    def deposit(self, amount):\n",
    "        self.balance += amount\n",
    "        return f\"YOU DEPOSITED ${amount}. YOUR NEW BALANCE IS ${self.balance}\"\n",
    "\n",
    "    def withdraw(self, amount):\n",
    "        if self.balance >= amount:\n",
    "            self.balance -= amount\n",
    "            return f\"WITHDREW ${amount}. YOUR NEW BALANCE IS ${self.balance}\"\n",
    "        else:\n",
    "            return \"INSUFFICIENT FUNDS. WITHDRAWAL FAILED\"\n",
    "\n",
    "\n",
    "atm = ATM()\n",
    "\n",
    "while True:\n",
    "    print(\"\\n1. CHECK BALANCE\")\n",
    "    print(\"2. DEPOSIT\")\n",
    "    print(\"3. WITHDRAW\")\n",
    "    print(\"4. EXIT\")\n",
    "\n",
    "    choice = input(\"ENTER YOUR CHOICE: \")\n",
    "\n",
    "    if choice == \"1\":\n",
    "        print(atm.check_balance())\n",
    "    elif choice == \"2\":\n",
    "        amount = float(input(\"Enter the deposit amount: \"))\n",
    "        print(atm.deposit(amount))\n",
    "    elif choice == \"3\":\n",
    "        amount = float(input(\"Enter the withdraw amount: \"))\n",
    "        print(atm.withdraw(amount))\n",
    "    elif choice == \"4\":\n",
    "        print(\"THANK YOU FOR USING THE ATM. GOODBYE!\")\n",
    "        break\n",
    "    else:\n",
    "        print(\"INVALID CHOICE. PLEASE SELECT A VALID OPTION.\")\n"
   ]
  },
  {
   "cell_type": "code",
   "execution_count": 1,
   "id": "a84f7e47-78eb-4f28-8c57-b29bb7697df3",
   "metadata": {},
   "outputs": [
    {
     "name": "stdout",
     "output_type": "stream",
     "text": [
      "\n",
      "Operations:\n",
      "Enter 'add' for addition\n",
      "Enter 'sub' for subtraction\n",
      "Enter 'mul' for multiplication\n",
      "Enter 'div' for division\n",
      "Enter 'quit' to end the program\n"
     ]
    },
    {
     "name": "stdin",
     "output_type": "stream",
     "text": [
      ":  add\n",
      "Enter first number:  2\n",
      "Enter second number:  1\n"
     ]
    },
    {
     "name": "stdout",
     "output_type": "stream",
     "text": [
      "Result: 3.0\n",
      "\n",
      "Operations:\n",
      "Enter 'add' for addition\n",
      "Enter 'sub' for subtraction\n",
      "Enter 'mul' for multiplication\n",
      "Enter 'div' for division\n",
      "Enter 'quit' to end the program\n"
     ]
    },
    {
     "name": "stdin",
     "output_type": "stream",
     "text": [
      ":  quit\n"
     ]
    },
    {
     "name": "stdout",
     "output_type": "stream",
     "text": [
      "Thank you for using the calculator.\n"
     ]
    }
   ],
   "source": [
    "#TITLE:CALCULATOR APP\n",
    "while True:\n",
    "    print(\"\\nOperations:\")\n",
    "    print(\"Enter 'add' for addition\")\n",
    "    print(\"Enter 'sub' for subtraction\")\n",
    "    print(\"Enter 'mul' for multiplication\")\n",
    "    print(\"Enter 'div' for division\")\n",
    "    print(\"Enter 'quit' to end the program\")\n",
    "\n",
    "    user_input = input(\": \").lower()\n",
    "\n",
    "    if user_input == \"quit\":\n",
    "        print(\"Thank you for using the calculator.\")\n",
    "        break\n",
    "    elif user_input in (\"add\", \"sub\", \"mul\", \"div\"):\n",
    "        try:\n",
    "            num1 = float(input(\"Enter first number: \"))\n",
    "            num2 = float(input(\"Enter second number: \"))\n",
    "        except ValueError:\n",
    "            print(\"Invalid input. Please enter numeric values.\")\n",
    "            continue\n",
    "\n",
    "        if user_input == \"add\":\n",
    "            print(f\"Result: {num1 + num2}\")\n",
    "        elif user_input == \"sub\":\n",
    "            print(f\"Result: {num1 - num2}\")\n",
    "        elif user_input == \"mul\":\n",
    "            print(f\"Result: {num1 * num2}\")\n",
    "        elif user_input == \"div\":\n",
    "            if num2 != 0:\n",
    "                print(f\"Result: {num1 / num2}\")\n",
    "            else:\n",
    "                print(\"Cannot divide by zero.\")\n",
    "    else:\n",
    "        print(\"Invalid input. Please choose a valid operation.\")\n",
    "\n",
    "        "
   ]
  },
  {
   "cell_type": "code",
   "execution_count": 9,
   "id": "a9d92479-4145-48d9-94cc-aa965ccdb617",
   "metadata": {},
   "outputs": [],
   "source": [
    "#TITLE:CLOCK APP\n",
    "import tkinter as tk\n",
    "from time import strftime\n",
    "\n",
    "root = tk.Tk()\n",
    "root.title(\"CLOCK\")\n",
    "\n",
    "def time():\n",
    "    string = strftime(\"%H:%M:%S\")\n",
    "    label.config(text=string)\n",
    "    label.after(1000,time)\n",
    "\n",
    "label = tk.Label(root,font=(\"Calibri\", 40, \"bold\"),background=\"black\",foreground=\"white\")\n",
    "label.pack(anchor=\"center\")\n",
    "\n",
    "time()\n",
    "root.mainloop()"
   ]
  },
  {
   "cell_type": "code",
   "execution_count": 13,
   "id": "56048b4f-a2c5-4240-8fca-ee61867f6e25",
   "metadata": {},
   "outputs": [
    {
     "name": "stdout",
     "output_type": "stream",
     "text": [
      "FILE C:\\Users\\subi\\Downloads\\fwsqlproject.zip HAS BEEN COMPRESSED TO compressed.gz\n"
     ]
    }
   ],
   "source": [
    "#TITLE:COMPRESS APP\n",
    "import gzip\n",
    "\n",
    "input_file = r\"C:\\Users\\subi\\Downloads\\fwsqlproject.zip\"\n",
    "output_file = \"compressed.gz\"\n",
    "\n",
    "with open (input_file,\"rb\") as f_in,gzip.open(output_file,\"wb\") as f_out:\n",
    "    f_out.writelines(f_in)\n",
    "\n",
    "print(f\"FILE {input_file} HAS BEEN COMPRESSED TO {output_file}\")\n",
    "\n"
   ]
  },
  {
   "cell_type": "code",
   "execution_count": 17,
   "id": "7ab50ba6-15e0-4ea0-824f-109fc018eb30",
   "metadata": {},
   "outputs": [
    {
     "name": "stdout",
     "output_type": "stream",
     "text": [
      "Collecting CurrencyConverter\n",
      "  Downloading currencyconverter-0.18.7-py3-none-any.whl.metadata (6.5 kB)\n",
      "Downloading currencyconverter-0.18.7-py3-none-any.whl (624 kB)\n",
      "   ---------------------------------------- 0.0/624.9 kB ? eta -:--:--\n",
      "   ---------------------------------------- 0.0/624.9 kB ? eta -:--:--\n",
      "   ---------------- ----------------------- 262.1/624.9 kB ? eta -:--:--\n",
      "   ---------------------------------------- 624.9/624.9 kB 1.3 MB/s eta 0:00:00\n",
      "Installing collected packages: CurrencyConverter\n",
      "Successfully installed CurrencyConverter-0.18.7\n"
     ]
    }
   ],
   "source": [
    "!pip install CurrencyConverter\n"
   ]
  },
  {
   "cell_type": "code",
   "execution_count": 31,
   "id": "14e3a4aa-f5f4-4f3a-8bf8-42af1d22c217",
   "metadata": {},
   "outputs": [
    {
     "name": "stdin",
     "output_type": "stream",
     "text": [
      "enter the amount:  300\n",
      "from currency  usd\n",
      "to currency  inr\n"
     ]
    },
    {
     "name": "stdout",
     "output_type": "stream",
     "text": [
      "25699.561787905342\n"
     ]
    }
   ],
   "source": [
    "#TITLE:CURRENCY CONVERSION APP\n",
    "from currency_converter import CurrencyConverter\n",
    "\n",
    "c = CurrencyConverter()\n",
    "\n",
    "amount = float(input(\"enter the amount: \"))\n",
    "from_currency = input(\"from currency \").upper()\n",
    "to_currency = input(\"to currency \").upper()\n",
    "\n",
    "result = c.convert(amount,from_currency,to_currency) \n",
    "\n",
    "print(result)"
   ]
  },
  {
   "cell_type": "code",
   "execution_count": 29,
   "id": "62a7c64a-3b4c-4ea3-a059-4f4f998c7c0c",
   "metadata": {},
   "outputs": [
    {
     "name": "stdin",
     "output_type": "stream",
     "text": [
      "Enter the amount:  300\n",
      "From currency (e.g., USD):  USD\n",
      "To currency (e.g., EUR):  INR\n"
     ]
    },
    {
     "name": "stdout",
     "output_type": "stream",
     "text": [
      "300.0 USD = 25699.56 INR\n"
     ]
    }
   ],
   "source": [
    "from currency_converter import CurrencyConverter\n",
    "\n",
    "c = CurrencyConverter()\n",
    "\n",
    "amount = float(input(\"Enter the amount: \"))\n",
    "from_currency = input(\"From currency (e.g., USD): \").upper()\n",
    "to_currency = input(\"To currency (e.g., EUR): \").upper()\n",
    "\n",
    "try:\n",
    "    result = c.convert(amount, from_currency, to_currency)\n",
    "    print(f\"{amount} {from_currency} = {result:.2f} {to_currency}\")\n",
    "except Exception as e:\n",
    "    print(\"Error:\", e)\n"
   ]
  },
  {
   "cell_type": "code",
   "execution_count": 35,
   "id": "36b60663-3401-47bf-b1ce-af8323172857",
   "metadata": {},
   "outputs": [
    {
     "name": "stdout",
     "output_type": "stream",
     "text": [
      "Collecting plyer\n",
      "  Downloading plyer-2.1.0-py2.py3-none-any.whl.metadata (61 kB)\n",
      "Downloading plyer-2.1.0-py2.py3-none-any.whl (142 kB)\n",
      "Installing collected packages: plyer\n",
      "Successfully installed plyer-2.1.0\n"
     ]
    }
   ],
   "source": [
    "!pip install plyer\n"
   ]
  },
  {
   "cell_type": "code",
   "execution_count": 37,
   "id": "35f198bb-4ab7-43f9-aa51-80f0831983bb",
   "metadata": {},
   "outputs": [],
   "source": [
    "from plyer import notification\n",
    "\n",
    "title = \"NOTIFICATION TITLE\"\n",
    "message = \"THIS IS A SAMPLE NOTIFICATION\"\n",
    "\n",
    "notification.notify(\n",
    "    title = title,\n",
    "    message = message,\n",
    "    app_name = \"PYTHON NOTIFICATION APP\",\n",
    "    timeout = 10\n",
    ")\n",
    "\n"
   ]
  },
  {
   "cell_type": "code",
   "execution_count": 3,
   "id": "c1c5b464-ce25-4506-8dc1-3cdf5e298f0a",
   "metadata": {},
   "outputs": [
    {
     "name": "stdout",
     "output_type": "stream",
     "text": [
      "Requirement already satisfied: qrcode[pil] in c:\\users\\subi\\anaconda3\\lib\\site-packages (8.2)Note: you may need to restart the kernel to use updated packages.\n",
      "\n",
      "Requirement already satisfied: colorama in c:\\users\\subi\\anaconda3\\lib\\site-packages (from qrcode[pil]) (0.4.6)\n",
      "Requirement already satisfied: pillow>=9.1.0 in c:\\users\\subi\\anaconda3\\lib\\site-packages (from qrcode[pil]) (10.4.0)\n"
     ]
    }
   ],
   "source": [
    "pip install qrcode[pil]"
   ]
  },
  {
   "cell_type": "code",
   "execution_count": 5,
   "id": "daed523d-c429-48f1-b40f-06dea8faa230",
   "metadata": {},
   "outputs": [],
   "source": [
    "#TITLE:QR CODE GENERATION\n",
    "import qrcode\n",
    "qr = qrcode.make(\"https://www.w3schools.com/python/python_classes.asp\")\n",
    "qr.show()"
   ]
  },
  {
   "cell_type": "code",
   "execution_count": 1,
   "id": "2709af7f-5003-4a0f-b771-2f2ee0e6db4c",
   "metadata": {},
   "outputs": [
    {
     "name": "stdout",
     "output_type": "stream",
     "text": [
      "Collecting screen-brightness-control\n",
      "  Downloading screen_brightness_control-0.24.2-py3-none-any.whl.metadata (4.6 kB)\n",
      "Collecting wmi (from screen-brightness-control)\n",
      "  Downloading WMI-1.5.1-py2.py3-none-any.whl.metadata (3.6 kB)\n",
      "Requirement already satisfied: pywin32 in c:\\users\\subi\\anaconda3\\lib\\site-packages (from screen-brightness-control) (305.1)\n",
      "Collecting pypiwin32 (from screen-brightness-control)\n",
      "  Downloading pypiwin32-223-py3-none-any.whl.metadata (236 bytes)\n",
      "Downloading screen_brightness_control-0.24.2-py3-none-any.whl (36 kB)\n",
      "Downloading pypiwin32-223-py3-none-any.whl (1.7 kB)\n",
      "Downloading WMI-1.5.1-py2.py3-none-any.whl (28 kB)\n",
      "Installing collected packages: wmi, pypiwin32, screen-brightness-control\n",
      "Successfully installed pypiwin32-223 screen-brightness-control-0.24.2 wmi-1.5.1\n"
     ]
    }
   ],
   "source": [
    "!pip install screen-brightness-control\n"
   ]
  },
  {
   "cell_type": "code",
   "execution_count": 3,
   "id": "27600bf8-16a5-4afe-9439-7f878d6391d6",
   "metadata": {},
   "outputs": [
    {
     "name": "stdout",
     "output_type": "stream",
     "text": [
      "[100]\n"
     ]
    }
   ],
   "source": [
    "#TITLE:SCREEN BRIGHTNESS APP\n",
    "import screen_brightness_control as sbc\n",
    "\n",
    "print(sbc.get_brightness())\n",
    "\n",
    "sbc.set_brightness(75,display=0)"
   ]
  },
  {
   "cell_type": "code",
   "execution_count": 7,
   "id": "940a5c26-58e7-4ba7-8360-1a343e70e09b",
   "metadata": {},
   "outputs": [
    {
     "name": "stdout",
     "output_type": "stream",
     "text": [
      "PID:0,NAME:System Idle Process,STATUS:running\n",
      "PID:4,NAME:System,STATUS:running\n",
      "PID:224,NAME:Registry,STATUS:running\n",
      "PID:264,NAME:python.exe,STATUS:running\n",
      "PID:720,NAME:smss.exe,STATUS:running\n",
      "PID:840,NAME:svchost.exe,STATUS:running\n",
      "PID:876,NAME:IntelCpHDCPSvc.exe,STATUS:running\n",
      "PID:948,NAME:R.exe,STATUS:running\n",
      "PID:972,NAME:chrome.exe,STATUS:running\n",
      "PID:1104,NAME:csrss.exe,STATUS:running\n",
      "PID:1108,NAME:svchost.exe,STATUS:running\n",
      "PID:1188,NAME:wininit.exe,STATUS:running\n",
      "PID:1328,NAME:RuntimeBroker.exe,STATUS:running\n",
      "PID:1332,NAME:services.exe,STATUS:running\n",
      "PID:1340,NAME:lsass.exe,STATUS:running\n",
      "PID:1368,NAME:svchost.exe,STATUS:running\n",
      "PID:1412,NAME:svchost.exe,STATUS:running\n",
      "PID:1492,NAME:winlogon.exe,STATUS:running\n",
      "PID:1496,NAME:svchost.exe,STATUS:running\n",
      "PID:1532,NAME:fontdrvhost.exe,STATUS:running\n",
      "PID:1544,NAME:WUDFHost.exe,STATUS:running\n",
      "PID:1668,NAME:AsusOptimizationStartupTask.exe,STATUS:running\n",
      "PID:1672,NAME:svchost.exe,STATUS:running\n",
      "PID:1720,NAME:svchost.exe,STATUS:running\n",
      "PID:1768,NAME:WUDFHost.exe,STATUS:running\n",
      "PID:1828,NAME:TextInputHost.exe,STATUS:running\n",
      "PID:1836,NAME:WUDFHost.exe,STATUS:running\n",
      "PID:1912,NAME:svchost.exe,STATUS:running\n",
      "PID:1928,NAME:svchost.exe,STATUS:running\n",
      "PID:1948,NAME:RtkAudUService64.exe,STATUS:running\n",
      "PID:2008,NAME:svchost.exe,STATUS:running\n",
      "PID:2024,NAME:svchost.exe,STATUS:running\n",
      "PID:2160,NAME:svchost.exe,STATUS:running\n",
      "PID:2248,NAME:svchost.exe,STATUS:running\n",
      "PID:2424,NAME:svchost.exe,STATUS:running\n",
      "PID:2468,NAME:svchost.exe,STATUS:running\n",
      "PID:2484,NAME:svchost.exe,STATUS:running\n",
      "PID:2504,NAME:svchost.exe,STATUS:running\n",
      "PID:2512,NAME:svchost.exe,STATUS:running\n",
      "PID:2712,NAME:svchost.exe,STATUS:running\n",
      "PID:2740,NAME:svchost.exe,STATUS:running\n",
      "PID:2772,NAME:svchost.exe,STATUS:running\n",
      "PID:2816,NAME:svchost.exe,STATUS:running\n",
      "PID:2828,NAME:svchost.exe,STATUS:running\n",
      "PID:2836,NAME:svchost.exe,STATUS:running\n",
      "PID:2848,NAME:MemCompression,STATUS:running\n",
      "PID:2960,NAME:svchost.exe,STATUS:running\n",
      "PID:2964,NAME:GlideXServiceExt.exe,STATUS:running\n",
      "PID:2996,NAME:svchost.exe,STATUS:running\n",
      "PID:3132,NAME:svchost.exe,STATUS:running\n",
      "PID:3192,NAME:svchost.exe,STATUS:running\n",
      "PID:3204,NAME:GlideXRemoteService.exe,STATUS:running\n",
      "PID:3296,NAME:cmd.exe,STATUS:running\n",
      "PID:3300,NAME:svchost.exe,STATUS:running\n",
      "PID:3316,NAME:RuntimeBroker.exe,STATUS:running\n",
      "PID:3324,NAME:GlideXService.exe,STATUS:running\n",
      "PID:3328,NAME:svchost.exe,STATUS:running\n",
      "PID:3360,NAME:conhost.exe,STATUS:running\n",
      "PID:3364,NAME:svchost.exe,STATUS:running\n",
      "PID:3436,NAME:svchost.exe,STATUS:running\n",
      "PID:3456,NAME:svchost.exe,STATUS:running\n",
      "PID:3472,NAME:svchost.exe,STATUS:running\n",
      "PID:3480,NAME:AsusOptimization.exe,STATUS:running\n",
      "PID:3548,NAME:svchost.exe,STATUS:running\n",
      "PID:3600,NAME:spoolsv.exe,STATUS:running\n",
      "PID:3640,NAME:svchost.exe,STATUS:running\n",
      "PID:3680,NAME:svchost.exe,STATUS:running\n",
      "PID:3852,NAME:svchost.exe,STATUS:running\n",
      "PID:3864,NAME:msedgewebview2.exe,STATUS:running\n",
      "PID:3872,NAME:Rterm.exe,STATUS:running\n",
      "PID:3908,NAME:SystemSettings.exe,STATUS:stopped\n",
      "PID:3912,NAME:SecurityHealthService.exe,STATUS:running\n",
      "PID:4008,NAME:AsusAppService.exe,STATUS:running\n",
      "PID:4024,NAME:AsusPTPService.exe,STATUS:running\n",
      "PID:4032,NAME:AsusSwitch.exe,STATUS:running\n",
      "PID:4040,NAME:AsusSystemDiagnosis.exe,STATUS:running\n",
      "PID:4048,NAME:AsusScreenXpertHostService.exe,STATUS:running\n",
      "PID:4056,NAME:AsusSystemAnalysis.exe,STATUS:running\n",
      "PID:4072,NAME:GlideXNearService.exe,STATUS:running\n",
      "PID:4084,NAME:svchost.exe,STATUS:running\n",
      "PID:4140,NAME:svchost.exe,STATUS:running\n",
      "PID:4148,NAME:AsusSoftwareManager.exe,STATUS:running\n",
      "PID:4156,NAME:svchost.exe,STATUS:running\n",
      "PID:4164,NAME:svchost.exe,STATUS:running\n",
      "PID:4172,NAME:OneApp.IGCC.WinService.exe,STATUS:running\n",
      "PID:4180,NAME:IntelAudioService.exe,STATUS:running\n",
      "PID:4188,NAME:DiracAudSrv.exe,STATUS:running\n",
      "PID:4196,NAME:RtkAudUService64.exe,STATUS:running\n",
      "PID:4204,NAME:svchost.exe,STATUS:running\n",
      "PID:4212,NAME:jhi_service.exe,STATUS:running\n",
      "PID:4220,NAME:svchost.exe,STATUS:running\n",
      "PID:4228,NAME:RstMwService.exe,STATUS:running\n",
      "PID:4248,NAME:ipfsvc.exe,STATUS:running\n",
      "PID:4256,NAME:svchost.exe,STATUS:running\n",
      "PID:4264,NAME:svchost.exe,STATUS:running\n",
      "PID:4272,NAME:svchost.exe,STATUS:running\n",
      "PID:4284,NAME:svchost.exe,STATUS:running\n",
      "PID:4296,NAME:svchost.exe,STATUS:running\n",
      "PID:4312,NAME:mysqld.exe,STATUS:running\n",
      "PID:4320,NAME:WMIRegistrationService.exe,STATUS:running\n",
      "PID:4368,NAME:SecurityHealthSystray.exe,STATUS:running\n",
      "PID:4392,NAME:R.exe,STATUS:running\n",
      "PID:4408,NAME:ipf_uf.exe,STATUS:running\n",
      "PID:4940,NAME:mc-fw-host.exe,STATUS:running\n",
      "PID:4972,NAME:FileSyncHelper.exe,STATUS:running\n",
      "PID:4996,NAME:Rterm.exe,STATUS:running\n",
      "PID:5024,NAME:svchost.exe,STATUS:running\n",
      "PID:5132,NAME:svchost.exe,STATUS:running\n",
      "PID:5292,NAME:RuntimeBroker.exe,STATUS:running\n",
      "PID:5320,NAME:AsusSoftwareManagerAgent.exe,STATUS:running\n",
      "PID:5536,NAME:mysqld.exe,STATUS:running\n",
      "PID:5596,NAME:cmd.exe,STATUS:running\n",
      "PID:5660,NAME:conhost.exe,STATUS:running\n",
      "PID:5688,NAME:chrome.exe,STATUS:running\n",
      "PID:5772,NAME:svchost.exe,STATUS:running\n",
      "PID:5876,NAME:fontdrvhost.exe,STATUS:running\n",
      "PID:5924,NAME:wlanext.exe,STATUS:running\n",
      "PID:6240,NAME:msedgewebview2.exe,STATUS:running\n",
      "PID:6288,NAME:svchost.exe,STATUS:running\n",
      "PID:6296,NAME:CrossDeviceService.exe,STATUS:running\n",
      "PID:6304,NAME:svchost.exe,STATUS:running\n",
      "PID:6508,NAME:msedge.exe,STATUS:running\n",
      "PID:6548,NAME:python.exe,STATUS:running\n",
      "PID:6584,NAME:Rterm.exe,STATUS:running\n",
      "PID:6832,NAME:WmiPrvSE.exe,STATUS:running\n",
      "PID:7568,NAME:uihost.exe,STATUS:running\n",
      "PID:7732,NAME:svchost.exe,STATUS:running\n",
      "PID:7852,NAME:Widgets.exe,STATUS:running\n",
      "PID:7884,NAME:svchost.exe,STATUS:running\n",
      "PID:8100,NAME:ctfmon.exe,STATUS:running\n",
      "PID:8168,NAME:RtkAudUService64.exe,STATUS:running\n",
      "PID:8376,NAME:AsusSystemAnalysis.exe,STATUS:running\n",
      "PID:8380,NAME:mc-fw-host.exe,STATUS:running\n",
      "PID:8568,NAME:msedgewebview2.exe,STATUS:running\n",
      "PID:8644,NAME:sihost.exe,STATUS:running\n",
      "PID:8744,NAME:svchost.exe,STATUS:running\n",
      "PID:8868,NAME:msedge.exe,STATUS:running\n",
      "PID:8896,NAME:AggregatorHost.exe,STATUS:running\n",
      "PID:8928,NAME:svchost.exe,STATUS:running\n",
      "PID:8976,NAME:svchost.exe,STATUS:running\n",
      "PID:9040,NAME:svchost.exe,STATUS:running\n",
      "PID:9176,NAME:mongod.exe,STATUS:running\n",
      "PID:9540,NAME:svchost.exe,STATUS:running\n",
      "PID:9584,NAME:msedgewebview2.exe,STATUS:running\n",
      "PID:9720,NAME:svchost.exe,STATUS:running\n",
      "PID:9804,NAME:svchost.exe,STATUS:running\n",
      "PID:9808,NAME:mc-neo-host.exe,STATUS:running\n",
      "PID:9840,NAME:ShellHost.exe,STATUS:running\n",
      "PID:9904,NAME:CrossDeviceResume.exe,STATUS:running\n",
      "PID:10000,NAME:chrome.exe,STATUS:running\n",
      "PID:10024,NAME:chrome.exe,STATUS:running\n",
      "PID:10036,NAME:chrome.exe,STATUS:running\n",
      "PID:10316,NAME:svchost.exe,STATUS:running\n",
      "PID:10448,NAME:svchost.exe,STATUS:running\n",
      "PID:10472,NAME:svchost.exe,STATUS:running\n",
      "PID:10580,NAME:svchost.exe,STATUS:running\n",
      "PID:10680,NAME:chrome.exe,STATUS:running\n",
      "PID:10704,NAME:svchost.exe,STATUS:running\n",
      "PID:10892,NAME:svchost.exe,STATUS:running\n",
      "PID:11376,NAME:ms-teams.exe,STATUS:running\n",
      "PID:11976,NAME:msedgewebview2.exe,STATUS:running\n",
      "PID:12008,NAME:R.exe,STATUS:running\n",
      "PID:12048,NAME:msedgewebview2.exe,STATUS:running\n",
      "PID:12132,NAME:backgroundTaskHost.exe,STATUS:stopped\n",
      "PID:12172,NAME:csrss.exe,STATUS:running\n",
      "PID:12572,NAME:msedgewebview2.exe,STATUS:running\n",
      "PID:12588,NAME:svchost.exe,STATUS:running\n",
      "PID:12592,NAME:cmd.exe,STATUS:running\n",
      "PID:12600,NAME:chrome.exe,STATUS:running\n",
      "PID:12668,NAME:python.exe,STATUS:running\n",
      "PID:12744,NAME:chrome.exe,STATUS:running\n",
      "PID:12776,NAME:chrome.exe,STATUS:running\n",
      "PID:12856,NAME:msedgewebview2.exe,STATUS:running\n",
      "PID:13076,NAME:chrome.exe,STATUS:running\n",
      "PID:13160,NAME:svchost.exe,STATUS:running\n",
      "PID:13236,NAME:RuntimeBroker.exe,STATUS:running\n",
      "PID:13316,NAME:msedgewebview2.exe,STATUS:running\n",
      "PID:13652,NAME:svchost.exe,STATUS:running\n",
      "PID:13720,NAME:WmiApSrv.exe,STATUS:running\n",
      "PID:13772,NAME:SearchHost.exe,STATUS:running\n",
      "PID:13796,NAME:svchost.exe,STATUS:running\n",
      "PID:13852,NAME:AsusScreenXpertUI.exe,STATUS:running\n",
      "PID:14080,NAME:svchost.exe,STATUS:running\n",
      "PID:14152,NAME:svchost.exe,STATUS:running\n",
      "PID:14248,NAME:UserOOBEBroker.exe,STATUS:running\n",
      "PID:14316,NAME:chrome.exe,STATUS:running\n",
      "PID:14352,NAME:R.exe,STATUS:running\n",
      "PID:14380,NAME:R.exe,STATUS:running\n",
      "PID:14604,NAME:svchost.exe,STATUS:running\n",
      "PID:14636,NAME:svchost.exe,STATUS:running\n",
      "PID:15264,NAME:msedge.exe,STATUS:running\n",
      "PID:15356,NAME:WidgetService.exe,STATUS:running\n",
      "PID:15428,NAME:msedgewebview2.exe,STATUS:running\n",
      "PID:15500,NAME:svchost.exe,STATUS:running\n",
      "PID:15564,NAME:AsusOSD.exe,STATUS:running\n",
      "PID:15620,NAME:ApplicationFrameHost.exe,STATUS:running\n",
      "PID:15656,NAME:dasHost.exe,STATUS:running\n",
      "PID:15764,NAME:svchost.exe,STATUS:running\n",
      "PID:15800,NAME:explorer.exe,STATUS:running\n",
      "PID:15888,NAME:taskhostw.exe,STATUS:running\n",
      "PID:16052,NAME:WindowsTerminal.exe,STATUS:running\n",
      "PID:16068,NAME:msedgewebview2.exe,STATUS:running\n",
      "PID:16076,NAME:chrome.exe,STATUS:running\n",
      "PID:16148,NAME:chrome.exe,STATUS:running\n",
      "PID:16204,NAME:WmiPrvSE.exe,STATUS:running\n",
      "PID:16304,NAME:msedge.exe,STATUS:running\n",
      "PID:16576,NAME:chrome.exe,STATUS:running\n",
      "PID:16720,NAME:svchost.exe,STATUS:running\n",
      "PID:16780,NAME:unsecapp.exe,STATUS:running\n",
      "PID:16872,NAME:svchost.exe,STATUS:running\n",
      "PID:17112,NAME:audiodg.exe,STATUS:running\n",
      "PID:17128,NAME:cmd.exe,STATUS:running\n",
      "PID:17276,NAME:OfficeClickToRun.exe,STATUS:running\n",
      "PID:17316,NAME:svchost.exe,STATUS:running\n",
      "PID:17336,NAME:RuntimeBroker.exe,STATUS:running\n",
      "PID:17748,NAME:servicehost.exe,STATUS:running\n",
      "PID:17844,NAME:figma_agent.exe,STATUS:running\n",
      "PID:18204,NAME:R.exe,STATUS:running\n",
      "PID:18296,NAME:msedgewebview2.exe,STATUS:running\n",
      "PID:18336,NAME:msedgewebview2.exe,STATUS:running\n",
      "PID:18524,NAME:chrome.exe,STATUS:running\n",
      "PID:18544,NAME:msedgewebview2.exe,STATUS:running\n",
      "PID:18768,NAME:OneDrive.exe,STATUS:running\n",
      "PID:18944,NAME:dwm.exe,STATUS:running\n",
      "PID:18992,NAME:SearchIndexer.exe,STATUS:running\n",
      "PID:19028,NAME:R.exe,STATUS:running\n",
      "PID:19296,NAME:OpenConsole.exe,STATUS:running\n",
      "PID:19300,NAME:taskhostw.exe,STATUS:running\n",
      "PID:19316,NAME:msedgewebview2.exe,STATUS:running\n",
      "PID:19368,NAME:StartMenuExperienceHost.exe,STATUS:running\n",
      "PID:19476,NAME:svchost.exe,STATUS:running\n",
      "PID:19580,NAME:svchost.exe,STATUS:running\n",
      "PID:19656,NAME:ipf_helper.exe,STATUS:running\n",
      "PID:19696,NAME:chrome.exe,STATUS:running\n",
      "PID:19904,NAME:svchost.exe,STATUS:running\n",
      "PID:20092,NAME:msedgewebview2.exe,STATUS:running\n",
      "PID:20232,NAME:msedgewebview2.exe,STATUS:running\n",
      "PID:20272,NAME:msedge.exe,STATUS:running\n",
      "PID:20332,NAME:PhoneExperienceHost.exe,STATUS:running\n",
      "PID:20404,NAME:msedgewebview2.exe,STATUS:running\n",
      "PID:20572,NAME:WhatsApp.exe,STATUS:stopped\n",
      "PID:21160,NAME:Rterm.exe,STATUS:running\n",
      "PID:21300,NAME:R.exe,STATUS:running\n"
     ]
    }
   ],
   "source": [
    "#TITLE:BUILD TASK MANAGER\n",
    "import psutil\n",
    "\n",
    "running_process = psutil.process_iter(attrs=[\"pid\",\"name\",\"status\"])\n",
    "\n",
    "for process in running_process:\n",
    "    process_info = process.info\n",
    "    pid = process_info[\"pid\"]\n",
    "    name = process_info[\"name\"]\n",
    "    status = process_info[\"status\"]\n",
    "    print(f\"PID:{pid},NAME:{name},STATUS:{status}\")\n",
    "    "
   ]
  },
  {
   "cell_type": "code",
   "execution_count": 13,
   "id": "87963bce-0bdf-455d-9c60-abcf648ef212",
   "metadata": {},
   "outputs": [
    {
     "name": "stdout",
     "output_type": "stream",
     "text": [
      "battery percantage :  72\n",
      "power plugged in :  False\n"
     ]
    }
   ],
   "source": [
    "#TITLE LAPTOP BATTERY CHECK APP\n",
    "import psutil\n",
    "\n",
    "battery = psutil.sensors_battery()\n",
    "\n",
    "print(\"battery percantage : \",battery.percent)\n",
    "print(\"power plugged in : \",battery.power_plugged)"
   ]
  },
  {
   "cell_type": "code",
   "execution_count": 21,
   "id": "f5481821-b6e5-44c3-bf3e-f4544f889114",
   "metadata": {},
   "outputs": [
    {
     "name": "stdin",
     "output_type": "stream",
     "text": [
      "Choose rock, paper, or scissors:  rock\n"
     ]
    },
    {
     "name": "stdout",
     "output_type": "stream",
     "text": [
      "Computer chose: rock\n",
      "It is a tie!\n"
     ]
    }
   ],
   "source": [
    "#TITLE:ROCK PAPER SCISSOR GAME\n",
    "import random \n",
    "\n",
    "choices = [\"rock\", \"paper\", \"scissors\"]\n",
    "computer_choice = random.choice(choices)\n",
    "player_choice = input(\"Choose rock, paper, or scissors: \").lower()\n",
    "\n",
    "if player_choice in choices:\n",
    "    print(\"Computer chose:\", computer_choice)\n",
    "\n",
    "    if player_choice == computer_choice:\n",
    "        print(\"It is a tie!\")\n",
    "    elif (\n",
    "        (player_choice == \"rock\" and computer_choice == \"scissors\") or\n",
    "        (player_choice == \"paper\" and computer_choice == \"rock\") or\n",
    "        (player_choice == \"scissors\" and computer_choice == \"paper\")\n",
    "    ):\n",
    "        print(\"You win!\")\n",
    "    else:\n",
    "        print(\"Computer wins!\")\n",
    "else:\n",
    "    print(\"Invalid choice!\")\n"
   ]
  },
  {
   "cell_type": "code",
   "execution_count": 31,
   "id": "0d03b893-2d34-46a0-a1c4-373ec6ff9b22",
   "metadata": {},
   "outputs": [
    {
     "name": "stdout",
     "output_type": "stream",
     "text": [
      "Connected to MySQL database\n",
      "ERROR: 1146 (42S02): Table 'employee.app' doesn't exist\n"
     ]
    }
   ],
   "source": [
    "#TITLE:PYTHON WITH MYSQL JDBC CONNECTIVITY APP\n",
    "import mysql.connector\n",
    "\n",
    "\n",
    "host = \"localhost\"\n",
    "user = \"root\"\n",
    "password = \"root\"\n",
    "database = \"employee\"\n",
    "\n",
    "try:\n",
    "   \n",
    "    connection = mysql.connector.connect(\n",
    "        host=host,\n",
    "        user=user,\n",
    "        password=password,\n",
    "        database=database\n",
    "    )\n",
    "\n",
    "    if connection.is_connected():\n",
    "        print(\"Connected to MySQL database\")\n",
    "\n",
    "        cursor = connection.cursor()\n",
    "        cursor.execute(\"SELECT * FROM app\")\n",
    "        records = cursor.fetchall()\n",
    "\n",
    "        for record in records:\n",
    "            print(record)\n",
    "\n",
    "        cursor.close()\n",
    "        connection.close()\n",
    "\n",
    "except mysql.connector.Error as e:\n",
    "    print(f\"ERROR: {e}\")\n"
   ]
  },
  {
   "cell_type": "code",
   "execution_count": 33,
   "id": "5dca1bbc-b271-4cf9-aa0a-f393c50fb352",
   "metadata": {},
   "outputs": [
    {
     "name": "stdout",
     "output_type": "stream",
     "text": [
      "Requirement already satisfied: beautifulsoup4 in c:\\users\\subi\\anaconda3\\lib\\site-packages (4.12.3)\n",
      "Requirement already satisfied: soupsieve>1.2 in c:\\users\\subi\\anaconda3\\lib\\site-packages (from beautifulsoup4) (2.5)\n"
     ]
    }
   ],
   "source": [
    "!pip install beautifulsoup4\n"
   ]
  },
  {
   "cell_type": "code",
   "execution_count": 35,
   "id": "9c1f2c1e-17c7-40eb-9d97-c910f684cc42",
   "metadata": {},
   "outputs": [
    {
     "name": "stdout",
     "output_type": "stream",
     "text": [
      "None\n",
      "#skippedLink\n",
      "None\n",
      "None\n",
      "None\n",
      "None\n",
      "/ref=nav_logo\n",
      "\n",
      "/customer-preferences/edit?ie=UTF8&preferencesReturnUrl=%2F&ref_=topnav_lang\n",
      "https://www.amazon.in/ap/signin?openid.pape.max_auth_age=0&openid.return_to=https%3A%2F%2Fwww.amazon.in%2F%3F_encoding%3DUTF8%26ref_%3Dnav_ya_signin&openid.identity=http%3A%2F%2Fspecs.openid.net%2Fauth%2F2.0%2Fidentifier_select&openid.assoc_handle=inflex&openid.mode=checkid_setup&openid.claimed_id=http%3A%2F%2Fspecs.openid.net%2Fauth%2F2.0%2Fidentifier_select&openid.ns=http%3A%2F%2Fspecs.openid.net%2Fauth%2F2.0\n",
      "/gp/css/order-history?ref_=nav_orders_first\n",
      "/gp/cart/view.html?ref_=nav_cart\n",
      "/gp/site-directory?ref_=nav_em_js_disabled\n",
      "/fresh?ref_=nav_cs_grocery\n",
      "/minitv?ref_=nav_avod_desktop_topnav\n",
      "/b/32702023031?node=32702023031&ld=AZINSOANavDesktop_T3&ref_=nav_cs_sell_T3\n",
      "/gp/bestsellers/?ref_=nav_cs_bestsellers\n",
      "/prime?ref_=nav_cs_primelink_nonmember\n",
      "/mobile-phones/b/?ie=UTF8&node=1389401031&ref_=nav_cs_mobiles\n",
      "/deals?ref_=nav_cs_gb\n",
      "/gp/help/customer/display.html?nodeId=200507590&ref_=nav_cs_help\n",
      "/gp/new-releases/?ref_=nav_cs_newreleases\n",
      "/gp/browse.html?node=6648217031&ref_=nav_cs_fashion\n",
      "/gp/sva/dashboard?ref_=nav_cs_apay\n",
      "/electronics/b/?ie=UTF8&node=976419031&ref_=nav_cs_electronics\n",
      "/Home-Kitchen/b/?ie=UTF8&node=976442031&ref_=nav_cs_home\n",
      "/computers-and-accessories/b/?ie=UTF8&node=976392031&ref_=nav_cs_pc\n",
      "/Car-Motorbike-Store/b/?ie=UTF8&node=4772060031&ref_=nav_cs_automotive\n",
      "/Books/b/?ie=UTF8&node=976389031&ref_=nav_cs_books\n",
      "/video-games/b/?ie=UTF8&node=976460031&ref_=nav_cs_video_games\n",
      "/Toys-Games/b/?ie=UTF8&node=1350380031&ref_=nav_cs_toys\n",
      "/Home-Improvement/b/?ie=UTF8&node=4286640031&ref_=nav_cs_hi\n",
      "/beauty/b/?ie=UTF8&node=1355016031&ref_=nav_cs_beauty\n",
      "/gift-card-store/b/?ie=UTF8&node=3704982031&ref_=nav_cs_gc\n",
      "/health-and-personal-care/b/?ie=UTF8&node=1350384031&ref_=nav_cs_hpc\n",
      "/Gourmet-Specialty-Foods/b/?ie=UTF8&node=2454178031&ref_=nav_cs_grocery\n",
      "/Sports/b/?ie=UTF8&node=1984443031&ref_=nav_cs_sports\n",
      "/Amazon-Custom/b/?ie=UTF8&node=32615889031&ref_=nav_cs_custom\n",
      "/Baby/b/?ie=UTF8&node=1571274031&ref_=nav_cs_baby\n",
      "/Pet-Supplies/b/?ie=UTF8&node=2454181031&ref_=nav_cs_pets\n",
      "/b/?node=6637738031&ref_=nav_cs_amazonbasics\n",
      "/Audible-Books-and-Originals/b/?ie=UTF8&node=17941593031&ref_=nav_cs_audible\n",
      "/auto-deliveries/landing?ref_=nav_cs_sns\n",
      "/gcx/-/gfhz/?ref_=nav_cs_giftfinder\n",
      "None\n",
      "None\n",
      "#\n",
      "/s/?_encoding=UTF8&i=toys&rh=n%3A1350380031%2Cp_36%3A2485524031%2Cp_n_age_range%3A1480705031%257C1480706031%257C1480707031&dc=&qid=1741871368&rnid=1480704031&ref=sr_nr_p_n_age_range_3&ds=v1%3AfA61fYKOIZ%2FFtIejsMqUgp%2BDkz5O5Fau3bc%2FwQOLm2w&pd_rd_w=8zMki&content-id=amzn1.sym.037be4e6-8b38-4476-8798-04f36cc06cd0&pf_rd_p=037be4e6-8b38-4476-8798-04f36cc06cd0&pf_rd_r=0WXXP7S3VWY2C760KA21&pd_rd_wg=bL9hm&pd_rd_r=80631fa3-66bb-4736-b678-afb3a69ab806&ref_=pd_hp_d_hero_unk\n",
      "#\n",
      "/s/?_encoding=UTF8&bbn=81107432031&rh=n%3A81107432031%2Cp_85%3A10440599031&pd_rd_w=IZBtg&content-id=amzn1.sym.58c90a12-100b-4a2f-8e15-7c06f1abe2be&pf_rd_p=58c90a12-100b-4a2f-8e15-7c06f1abe2be&pf_rd_r=0WXXP7S3VWY2C760KA21&pd_rd_wg=KmSxZ&pd_rd_r=a8378010-85b7-43f7-9688-7f89f18b71c6&ref_=pd_hp_d_atf_unk\n",
      "/s/?_encoding=UTF8&bbn=81107433031&rh=n%3A81107433031%2Cp_85%3A10440599031&pd_rd_w=IZBtg&content-id=amzn1.sym.58c90a12-100b-4a2f-8e15-7c06f1abe2be&pf_rd_p=58c90a12-100b-4a2f-8e15-7c06f1abe2be&pf_rd_r=0WXXP7S3VWY2C760KA21&pd_rd_wg=KmSxZ&pd_rd_r=a8378010-85b7-43f7-9688-7f89f18b71c6&ref_=pd_hp_d_atf_unk\n",
      "/s/?_encoding=UTF8&bbn=84514739031&rh=n%3A84514739031%2Cp_85%3A10440599031&pd_rd_w=IZBtg&content-id=amzn1.sym.58c90a12-100b-4a2f-8e15-7c06f1abe2be&pf_rd_p=58c90a12-100b-4a2f-8e15-7c06f1abe2be&pf_rd_r=0WXXP7S3VWY2C760KA21&pd_rd_wg=KmSxZ&pd_rd_r=a8378010-85b7-43f7-9688-7f89f18b71c6&ref_=pd_hp_d_atf_unk\n",
      "/s/?_encoding=UTF8&bbn=84514752031&rh=n%3A84514752031%2Cp_85%3A10440599031&pd_rd_w=IZBtg&content-id=amzn1.sym.58c90a12-100b-4a2f-8e15-7c06f1abe2be&pf_rd_p=58c90a12-100b-4a2f-8e15-7c06f1abe2be&pf_rd_r=0WXXP7S3VWY2C760KA21&pd_rd_wg=KmSxZ&pd_rd_r=a8378010-85b7-43f7-9688-7f89f18b71c6&ref_=pd_hp_d_atf_unk\n",
      "/s/?_encoding=UTF8&bbn=84514735031&rh=n%3A84514735031%2Cp_85%3A10440599031&pd_rd_w=IZBtg&content-id=amzn1.sym.58c90a12-100b-4a2f-8e15-7c06f1abe2be&pf_rd_p=58c90a12-100b-4a2f-8e15-7c06f1abe2be&pf_rd_r=0WXXP7S3VWY2C760KA21&pd_rd_wg=KmSxZ&pd_rd_r=a8378010-85b7-43f7-9688-7f89f18b71c6&ref_=pd_hp_d_atf_unk\n",
      "/b/?_encoding=UTF8&node=1380442031&pd_rd_w=CsS9d&content-id=amzn1.sym.f8e82c51-0408-4554-a158-9be4d776850d&pf_rd_p=f8e82c51-0408-4554-a158-9be4d776850d&pf_rd_r=0WXXP7S3VWY2C760KA21&pd_rd_wg=KmSxZ&pd_rd_r=a8378010-85b7-43f7-9688-7f89f18b71c6&ref_=pd_hp_d_atf_unk\n",
      "/b/?_encoding=UTF8&node=1380374031&pd_rd_w=CsS9d&content-id=amzn1.sym.f8e82c51-0408-4554-a158-9be4d776850d&pf_rd_p=f8e82c51-0408-4554-a158-9be4d776850d&pf_rd_r=0WXXP7S3VWY2C760KA21&pd_rd_wg=KmSxZ&pd_rd_r=a8378010-85b7-43f7-9688-7f89f18b71c6&ref_=pd_hp_d_atf_unk\n",
      "/b/?_encoding=UTF8&node=1380510031&pd_rd_w=CsS9d&content-id=amzn1.sym.f8e82c51-0408-4554-a158-9be4d776850d&pf_rd_p=f8e82c51-0408-4554-a158-9be4d776850d&pf_rd_r=0WXXP7S3VWY2C760KA21&pd_rd_wg=KmSxZ&pd_rd_r=a8378010-85b7-43f7-9688-7f89f18b71c6&ref_=pd_hp_d_atf_unk\n",
      "/b/?_encoding=UTF8&node=1380485031&pd_rd_w=CsS9d&content-id=amzn1.sym.f8e82c51-0408-4554-a158-9be4d776850d&pf_rd_p=f8e82c51-0408-4554-a158-9be4d776850d&pf_rd_r=0WXXP7S3VWY2C760KA21&pd_rd_wg=KmSxZ&pd_rd_r=a8378010-85b7-43f7-9688-7f89f18b71c6&ref_=pd_hp_d_atf_unk\n",
      "/b/?_encoding=UTF8&node=12414705031&pd_rd_w=CsS9d&content-id=amzn1.sym.f8e82c51-0408-4554-a158-9be4d776850d&pf_rd_p=f8e82c51-0408-4554-a158-9be4d776850d&pf_rd_r=0WXXP7S3VWY2C760KA21&pd_rd_wg=KmSxZ&pd_rd_r=a8378010-85b7-43f7-9688-7f89f18b71c6&ref_=pd_hp_d_atf_unk\n",
      "/s/?_encoding=UTF8&bbn=1388921031&rh=n%3A1388921031%2Cp_89%3AboAt&pd_rd_w=h6KkO&content-id=amzn1.sym.82b20790-8877-4d70-8f73-9d8246e460aa&pf_rd_p=82b20790-8877-4d70-8f73-9d8246e460aa&pf_rd_r=0WXXP7S3VWY2C760KA21&pd_rd_wg=KmSxZ&pd_rd_r=a8378010-85b7-43f7-9688-7f89f18b71c6&ref_=pd_hp_d_atf_unk\n",
      "/s/?_encoding=UTF8&i=electronics&bbn=1388921031&rh=n%3A1388921031%2Cp_89%3ABoult&pd_rd_w=h6KkO&content-id=amzn1.sym.82b20790-8877-4d70-8f73-9d8246e460aa&pf_rd_p=82b20790-8877-4d70-8f73-9d8246e460aa&pf_rd_r=0WXXP7S3VWY2C760KA21&pd_rd_wg=KmSxZ&pd_rd_r=a8378010-85b7-43f7-9688-7f89f18b71c6&ref_=pd_hp_d_atf_unk\n",
      "/s/?_encoding=UTF8&k=noise&i=electronics&rh=n%3A1388921031%2Cp_n_condition-type%3A8609960031%2Cp_36%3A-200000&pd_rd_w=h6KkO&content-id=amzn1.sym.82b20790-8877-4d70-8f73-9d8246e460aa&pf_rd_p=82b20790-8877-4d70-8f73-9d8246e460aa&pf_rd_r=0WXXP7S3VWY2C760KA21&pd_rd_wg=KmSxZ&pd_rd_r=a8378010-85b7-43f7-9688-7f89f18b71c6&ref_=pd_hp_d_atf_unk\n",
      "/s/?_encoding=UTF8&k=zebronics&i=electronics&rh=n%3A976419031%2Cn%3A29561348031%2Cp_89%3AZEBRONICS&pd_rd_w=h6KkO&content-id=amzn1.sym.82b20790-8877-4d70-8f73-9d8246e460aa&pf_rd_p=82b20790-8877-4d70-8f73-9d8246e460aa&pf_rd_r=0WXXP7S3VWY2C760KA21&pd_rd_wg=KmSxZ&pd_rd_r=a8378010-85b7-43f7-9688-7f89f18b71c6&ref_=pd_hp_d_atf_unk\n",
      "/b/?_encoding=UTF8&ie=UTF8&node=1388921031&pd_rd_w=h6KkO&content-id=amzn1.sym.82b20790-8877-4d70-8f73-9d8246e460aa&pf_rd_p=82b20790-8877-4d70-8f73-9d8246e460aa&pf_rd_r=0WXXP7S3VWY2C760KA21&pd_rd_wg=KmSxZ&pd_rd_r=a8378010-85b7-43f7-9688-7f89f18b71c6&ref_=pd_hp_d_atf_unk\n",
      "/ref=PS5BAU25QCPS5digital/dp/B0CY5QW186/?_encoding=UTF8&pd_rd_w=DMkqN&content-id=amzn1.sym.3b2d0011-a8ec-4315-a031-cca3c26cfcd6&pf_rd_p=3b2d0011-a8ec-4315-a031-cca3c26cfcd6&pf_rd_r=0WXXP7S3VWY2C760KA21&pd_rd_wg=KmSxZ&pd_rd_r=a8378010-85b7-43f7-9688-7f89f18b71c6&ref_=pd_hp_d_atf_unk\n",
      "/ref=PS5BAU25QCPS5disc/dp/B0CY5HVDS2/?_encoding=UTF8&pd_rd_w=DMkqN&content-id=amzn1.sym.3b2d0011-a8ec-4315-a031-cca3c26cfcd6&pf_rd_p=3b2d0011-a8ec-4315-a031-cca3c26cfcd6&pf_rd_r=0WXXP7S3VWY2C760KA21&pd_rd_wg=KmSxZ&pd_rd_r=a8378010-85b7-43f7-9688-7f89f18b71c6&ref_=pd_hp_d_atf_unk\n",
      "/ref=PS5BAU25QCPS5fortnitedigital/dp/B0DN1QNDWC/?_encoding=UTF8&pd_rd_w=DMkqN&content-id=amzn1.sym.3b2d0011-a8ec-4315-a031-cca3c26cfcd6&pf_rd_p=3b2d0011-a8ec-4315-a031-cca3c26cfcd6&pf_rd_r=0WXXP7S3VWY2C760KA21&pd_rd_wg=KmSxZ&pd_rd_r=a8378010-85b7-43f7-9688-7f89f18b71c6&ref_=pd_hp_d_atf_unk\n",
      "/ref=PS5BAU25QCPS5fortnitedisc/dp/B08GZ6QNTC/?_encoding=UTF8&pd_rd_w=DMkqN&content-id=amzn1.sym.3b2d0011-a8ec-4315-a031-cca3c26cfcd6&pf_rd_p=3b2d0011-a8ec-4315-a031-cca3c26cfcd6&pf_rd_r=0WXXP7S3VWY2C760KA21&pd_rd_wg=KmSxZ&pd_rd_r=a8378010-85b7-43f7-9688-7f89f18b71c6&ref_=pd_hp_d_atf_unk\n",
      "/b/?_encoding=UTF8&node=976460031&ref_=tile5_seeallVG&pd_rd_w=DMkqN&content-id=amzn1.sym.3b2d0011-a8ec-4315-a031-cca3c26cfcd6&pf_rd_p=3b2d0011-a8ec-4315-a031-cca3c26cfcd6&pf_rd_r=0WXXP7S3VWY2C760KA21&pd_rd_wg=KmSxZ&pd_rd_r=a8378010-85b7-43f7-9688-7f89f18b71c6\n",
      "#\n",
      "/Phool-Badrinath-Bambooless-Incense-Sticks/dp/B0D3FBDZWL/?_encoding=UTF8&pd_rd_w=e9kgF&content-id=amzn1.sym.f8d98201-dd85-4a2b-86dd-aede3cb3272d&pf_rd_p=f8d98201-dd85-4a2b-86dd-aede3cb3272d&pf_rd_r=0WXXP7S3VWY2C760KA21&pd_rd_wg=dA52B&pd_rd_r=3e314121-9646-402d-8392-f290c99ad5c7&ref_=pd_hp_d_btf_LPDEALS\n",
      "/Phool-Badrinath-Bambooless-Incense-Sticks/dp/B0D3FBDZWL/?_encoding=UTF8&pd_rd_w=e9kgF&content-id=amzn1.sym.f8d98201-dd85-4a2b-86dd-aede3cb3272d&pf_rd_p=f8d98201-dd85-4a2b-86dd-aede3cb3272d&pf_rd_r=0WXXP7S3VWY2C760KA21&pd_rd_wg=dA52B&pd_rd_r=3e314121-9646-402d-8392-f290c99ad5c7&ref_=pd_hp_d_btf_LPDEALS\n",
      "/Phool-Badrinath-Bambooless-Incense-Sticks/dp/B0D3FBDZWL/?_encoding=UTF8&pd_rd_w=e9kgF&content-id=amzn1.sym.f8d98201-dd85-4a2b-86dd-aede3cb3272d&pf_rd_p=f8d98201-dd85-4a2b-86dd-aede3cb3272d&pf_rd_r=0WXXP7S3VWY2C760KA21&pd_rd_wg=dA52B&pd_rd_r=3e314121-9646-402d-8392-f290c99ad5c7&ref_=pd_hp_d_btf_LPDEALS\n",
      "/Phool-Badrinath-Bambooless-Incense-Sticks/dp/B0D3FBDZWL/?_encoding=UTF8&pd_rd_w=e9kgF&content-id=amzn1.sym.f8d98201-dd85-4a2b-86dd-aede3cb3272d&pf_rd_p=f8d98201-dd85-4a2b-86dd-aede3cb3272d&pf_rd_r=0WXXP7S3VWY2C760KA21&pd_rd_wg=dA52B&pd_rd_r=3e314121-9646-402d-8392-f290c99ad5c7&ref_=pd_hp_d_btf_LPDEALS\n",
      "/Phool-Badrinath-Bambooless-Incense-Sticks/dp/B0D3FBDZWL/?_encoding=UTF8&pd_rd_w=e9kgF&content-id=amzn1.sym.f8d98201-dd85-4a2b-86dd-aede3cb3272d&pf_rd_p=f8d98201-dd85-4a2b-86dd-aede3cb3272d&pf_rd_r=0WXXP7S3VWY2C760KA21&pd_rd_wg=dA52B&pd_rd_r=3e314121-9646-402d-8392-f290c99ad5c7&ref_=pd_hp_d_btf_LPDEALS\n",
      "/Phool-Badrinath-Bambooless-Incense-Sticks/dp/B0D3FBDZWL/?_encoding=UTF8&pd_rd_w=e9kgF&content-id=amzn1.sym.f8d98201-dd85-4a2b-86dd-aede3cb3272d&pf_rd_p=f8d98201-dd85-4a2b-86dd-aede3cb3272d&pf_rd_r=0WXXP7S3VWY2C760KA21&pd_rd_wg=dA52B&pd_rd_r=3e314121-9646-402d-8392-f290c99ad5c7&ref_=pd_hp_d_btf_LPDEALS\n",
      "#\n",
      "/Phool-Badrinath-Bambooless-Incense-Sticks/dp/B0D3FBDZWL/?_encoding=UTF8&pd_rd_w=e9kgF&content-id=amzn1.sym.f8d98201-dd85-4a2b-86dd-aede3cb3272d&pf_rd_p=f8d98201-dd85-4a2b-86dd-aede3cb3272d&pf_rd_r=0WXXP7S3VWY2C760KA21&pd_rd_wg=dA52B&pd_rd_r=3e314121-9646-402d-8392-f290c99ad5c7&ref_=pd_hp_d_btf_LPDEALS\n",
      "/b/?_encoding=UTF8&node=3403635031&pd_rd_w=gJSwu&content-id=amzn1.sym.d5b43f20-3428-444e-b8fb-db6335b458a7&pf_rd_p=d5b43f20-3428-444e-b8fb-db6335b458a7&pf_rd_r=0WXXP7S3VWY2C760KA21&pd_rd_wg=dA52B&pd_rd_r=3e314121-9646-402d-8392-f290c99ad5c7&ref_=pd_hp_d_btf_unk\n",
      "/b/?_encoding=UTF8&node=1984443031&pd_rd_w=gJSwu&content-id=amzn1.sym.d5b43f20-3428-444e-b8fb-db6335b458a7&pf_rd_p=d5b43f20-3428-444e-b8fb-db6335b458a7&pf_rd_r=0WXXP7S3VWY2C760KA21&pd_rd_wg=dA52B&pd_rd_r=3e314121-9646-402d-8392-f290c99ad5c7&ref_=pd_hp_d_btf_unk\n",
      "#\n",
      "/Organic-Nishaanii-Aloe-Vera-200g/dp/B0DW23H85G/?_encoding=UTF8&pd_rd_w=zIUqE&content-id=amzn1.sym.89d05381-8aaa-4569-bc28-9a8e2f0fa0bc&pf_rd_p=89d05381-8aaa-4569-bc28-9a8e2f0fa0bc&pf_rd_r=0WXXP7S3VWY2C760KA21&pd_rd_wg=dA52B&pd_rd_r=3e314121-9646-402d-8392-f290c99ad5c7&ref_=pd_hp_d_btf_NSS\n",
      "/Organic-Nishaanii-Aloe-Vera-200g/dp/B0DW23H85G/?_encoding=UTF8&pd_rd_w=zIUqE&content-id=amzn1.sym.89d05381-8aaa-4569-bc28-9a8e2f0fa0bc&pf_rd_p=89d05381-8aaa-4569-bc28-9a8e2f0fa0bc&pf_rd_r=0WXXP7S3VWY2C760KA21&pd_rd_wg=dA52B&pd_rd_r=3e314121-9646-402d-8392-f290c99ad5c7&ref_=pd_hp_d_btf_NSS\n",
      "/Organic-Nishaanii-Aloe-Vera-200g/dp/B0DW23H85G/?_encoding=UTF8&pd_rd_w=zIUqE&content-id=amzn1.sym.89d05381-8aaa-4569-bc28-9a8e2f0fa0bc&pf_rd_p=89d05381-8aaa-4569-bc28-9a8e2f0fa0bc&pf_rd_r=0WXXP7S3VWY2C760KA21&pd_rd_wg=dA52B&pd_rd_r=3e314121-9646-402d-8392-f290c99ad5c7&ref_=pd_hp_d_btf_NSS\n",
      "/Organic-Nishaanii-Aloe-Vera-200g/dp/B0DW23H85G/?_encoding=UTF8&pd_rd_w=zIUqE&content-id=amzn1.sym.89d05381-8aaa-4569-bc28-9a8e2f0fa0bc&pf_rd_p=89d05381-8aaa-4569-bc28-9a8e2f0fa0bc&pf_rd_r=0WXXP7S3VWY2C760KA21&pd_rd_wg=dA52B&pd_rd_r=3e314121-9646-402d-8392-f290c99ad5c7&ref_=pd_hp_d_btf_NSS\n",
      "/Organic-Nishaanii-Aloe-Vera-200g/dp/B0DW23H85G/?_encoding=UTF8&pd_rd_w=zIUqE&content-id=amzn1.sym.89d05381-8aaa-4569-bc28-9a8e2f0fa0bc&pf_rd_p=89d05381-8aaa-4569-bc28-9a8e2f0fa0bc&pf_rd_r=0WXXP7S3VWY2C760KA21&pd_rd_wg=dA52B&pd_rd_r=3e314121-9646-402d-8392-f290c99ad5c7&ref_=pd_hp_d_btf_NSS\n",
      "/Organic-Nishaanii-Aloe-Vera-200g/dp/B0DW23H85G/?_encoding=UTF8&pd_rd_w=zIUqE&content-id=amzn1.sym.89d05381-8aaa-4569-bc28-9a8e2f0fa0bc&pf_rd_p=89d05381-8aaa-4569-bc28-9a8e2f0fa0bc&pf_rd_r=0WXXP7S3VWY2C760KA21&pd_rd_wg=dA52B&pd_rd_r=3e314121-9646-402d-8392-f290c99ad5c7&ref_=pd_hp_d_btf_NSS\n",
      "#\n",
      "/Organic-Nishaanii-Aloe-Vera-200g/dp/B0DW23H85G/?_encoding=UTF8&pd_rd_w=zIUqE&content-id=amzn1.sym.89d05381-8aaa-4569-bc28-9a8e2f0fa0bc&pf_rd_p=89d05381-8aaa-4569-bc28-9a8e2f0fa0bc&pf_rd_r=0WXXP7S3VWY2C760KA21&pd_rd_wg=dA52B&pd_rd_r=3e314121-9646-402d-8392-f290c99ad5c7&ref_=pd_hp_d_btf_NSS\n",
      "#\n",
      "/Dynamocks-Pack-Multicolour-Breathable-Durable/dp/B092W17JB6/?_encoding=UTF8&pd_rd_w=ixAY5&content-id=amzn1.sym.fc473745-78b6-47eb-a155-7364993c8815&pf_rd_p=fc473745-78b6-47eb-a155-7364993c8815&pf_rd_r=0WXXP7S3VWY2C760KA21&pd_rd_wg=dA52B&pd_rd_r=3e314121-9646-402d-8392-f290c99ad5c7&ref_=pd_hp_d_btf_NAMBOTTLES\n",
      "/Dynamocks-Pack-Multicolour-Breathable-Durable/dp/B092W17JB6/?_encoding=UTF8&pd_rd_w=ixAY5&content-id=amzn1.sym.fc473745-78b6-47eb-a155-7364993c8815&pf_rd_p=fc473745-78b6-47eb-a155-7364993c8815&pf_rd_r=0WXXP7S3VWY2C760KA21&pd_rd_wg=dA52B&pd_rd_r=3e314121-9646-402d-8392-f290c99ad5c7&ref_=pd_hp_d_btf_NAMBOTTLES\n",
      "/Dynamocks-Pack-Multicolour-Breathable-Durable/dp/B092W17JB6/?_encoding=UTF8&pd_rd_w=ixAY5&content-id=amzn1.sym.fc473745-78b6-47eb-a155-7364993c8815&pf_rd_p=fc473745-78b6-47eb-a155-7364993c8815&pf_rd_r=0WXXP7S3VWY2C760KA21&pd_rd_wg=dA52B&pd_rd_r=3e314121-9646-402d-8392-f290c99ad5c7&ref_=pd_hp_d_btf_NAMBOTTLES\n",
      "/Dynamocks-Pack-Multicolour-Breathable-Durable/dp/B092W17JB6/?_encoding=UTF8&pd_rd_w=ixAY5&content-id=amzn1.sym.fc473745-78b6-47eb-a155-7364993c8815&pf_rd_p=fc473745-78b6-47eb-a155-7364993c8815&pf_rd_r=0WXXP7S3VWY2C760KA21&pd_rd_wg=dA52B&pd_rd_r=3e314121-9646-402d-8392-f290c99ad5c7&ref_=pd_hp_d_btf_NAMBOTTLES\n",
      "/Dynamocks-Pack-Multicolour-Breathable-Durable/dp/B092W17JB6/?_encoding=UTF8&pd_rd_w=ixAY5&content-id=amzn1.sym.fc473745-78b6-47eb-a155-7364993c8815&pf_rd_p=fc473745-78b6-47eb-a155-7364993c8815&pf_rd_r=0WXXP7S3VWY2C760KA21&pd_rd_wg=dA52B&pd_rd_r=3e314121-9646-402d-8392-f290c99ad5c7&ref_=pd_hp_d_btf_NAMBOTTLES\n",
      "/Dynamocks-Pack-Multicolour-Breathable-Durable/dp/B092W17JB6/?_encoding=UTF8&pd_rd_w=ixAY5&content-id=amzn1.sym.fc473745-78b6-47eb-a155-7364993c8815&pf_rd_p=fc473745-78b6-47eb-a155-7364993c8815&pf_rd_r=0WXXP7S3VWY2C760KA21&pd_rd_wg=dA52B&pd_rd_r=3e314121-9646-402d-8392-f290c99ad5c7&ref_=pd_hp_d_btf_NAMBOTTLES\n",
      "#\n",
      "/Dynamocks-Pack-Multicolour-Breathable-Durable/dp/B092W17JB6/?_encoding=UTF8&pd_rd_w=ixAY5&content-id=amzn1.sym.fc473745-78b6-47eb-a155-7364993c8815&pf_rd_p=fc473745-78b6-47eb-a155-7364993c8815&pf_rd_r=0WXXP7S3VWY2C760KA21&pd_rd_wg=dA52B&pd_rd_r=3e314121-9646-402d-8392-f290c99ad5c7&ref_=pd_hp_d_btf_NAMBOTTLES\n",
      "/gp/history\n",
      "/gp/history\n",
      "None\n",
      "https://www.aboutamazon.in/?utm_source=gateway&utm_medium=footer\n",
      "https://amazon.jobs\n",
      "https://press.aboutamazon.in/?utm_source=gateway&utm_medium=footer\n",
      "https://www.amazon.science\n",
      "https://www.amazon.in/gp/redirect.html/ref=footer_fb?location=http://www.facebook.com/AmazonIN&token=2075D5EAC7BB214089728E2183FD391706D41E94&6\n",
      "https://www.amazon.in/gp/redirect.html/ref=footer_twitter?location=http://twitter.com/AmazonIN&token=A309DFBFCB1E37A808FF531934855DC817F130B6&6\n",
      "https://www.amazon.in/gp/redirect.html?location=https://www.instagram.com/amazondotin&token=264882C912E9D005CB1D9B61F12E125D5DF9BFC7&source=standards\n",
      "/b/?node=2838698031&ld=AZINSOANavDesktopFooter_C&ref_=nav_footer_sell_C\n",
      "https://accelerator.amazon.in/?ref_=map_1_b2b_GW_FT\n",
      "https://brandservices.amazon.in/?ref=AOINABRLGNRFOOT&ld=AOINABRLGNRFOOT\n",
      "https://sell.amazon.in/grow-your-business/amazon-global-selling.html?ld=AZIN_Footer_V1&ref=AZIN_Footer_V1\n",
      "https://supply.amazon.com/?ref_=footer_sta&lang=en-IN\n",
      "https://affiliate-program.amazon.in/?utm_campaign=assocshowcase&utm_medium=footer&utm_source=GW&ref_=footer_assoc\n",
      "https://services.amazon.in/services/fulfilment-by-amazon/benefits.html/ref=az_footer_fba?ld=AWRGINFBAfooter\n",
      "https://advertising.amazon.in/?ref=Amz.in\n",
      "https://www.amazonpay.in/merchant\n",
      "/gp/css/homepage.html?ref_=footer_ya\n",
      "/gp/css/returns/homepage.html?ref_=footer_hy_f_4\n",
      "https://www.amazon.in/your-product-safety-alerts?ref_=footer_bsx_ypsa\n",
      "/gp/help/customer/display.html?nodeId=201083470&ref_=footer_swc\n",
      "/gp/browse.html?node=6967393031&ref_=footer_mobapp\n",
      "/gp/help/customer/display.html?nodeId=200507590&ref_=footer_gw_m_b_he\n",
      "/ref=footer_logo\n",
      "/customer-preferences/edit?ie=UTF8&preferencesReturnUrl=%2F&ref_=footer_lang\n",
      "/customer-preferences/country?ie=UTF8&preferencesReturnUrl=%2F&ref_=footer_icp_cp\n",
      "https://www.abebooks.com/\n",
      "https://aws.amazon.com/what-is-cloud-computing/?sc_channel=EL&sc_campaign=IN_amazonfooter\n",
      "https://www.audible.in/\n",
      "https://www.imdb.com/\n",
      "https://www.shopbop.com/\n",
      "/business?ref=footer_aingw\n",
      "/now?ref=footer_amznow\n",
      "/music/prime?ref=footer_apm\n",
      "/gp/help/customer/display.html?nodeId=200545940&ref_=footer_cou\n",
      "/gp/help/customer/display.html?nodeId=200534380&ref_=footer_privacy\n",
      "/gp/help/customer/display.html?nodeId=202075050&ref_=footer_iba\n"
     ]
    }
   ],
   "source": [
    "import requests\n",
    "from bs4 import BeautifulSoup\n",
    "\n",
    "r = requests.get(\"https://www.amazon.in/?&tag=googhydrabk1-21&ref=pd_sl_5szpgfto9i_e&adgrpid=155259813593&hvpone=&hvptwo=&hvadid=674893540034&hvpos=&hvnetw=g&hvrand=17876697788580472&hvqmt=e&hvdev=c&hvdvcmdl=&hvlocint=&hvlocphy=9148688&hvtargid=kwd-64107830&hydadcr=14452_2316413&gad_source=1\")\n",
    "soup = BeautifulSoup(r.content,\"html.parser\")\n",
    "\n",
    "for link in soup.find_all(\"a\"):\n",
    "    print(link.get(\"href\"))"
   ]
  },
  {
   "cell_type": "code",
   "execution_count": null,
   "id": "9ea3df73-50ce-4950-aee0-6f0726275273",
   "metadata": {},
   "outputs": [],
   "source": []
  }
 ],
 "metadata": {
  "kernelspec": {
   "display_name": "Python [conda env:base] *",
   "language": "python",
   "name": "conda-base-py"
  },
  "language_info": {
   "codemirror_mode": {
    "name": "ipython",
    "version": 3
   },
   "file_extension": ".py",
   "mimetype": "text/x-python",
   "name": "python",
   "nbconvert_exporter": "python",
   "pygments_lexer": "ipython3",
   "version": "3.12.3"
  }
 },
 "nbformat": 4,
 "nbformat_minor": 5
}
